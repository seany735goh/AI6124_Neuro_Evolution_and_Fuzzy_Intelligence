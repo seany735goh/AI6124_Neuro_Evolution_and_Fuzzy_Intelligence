{
 "cells": [
  {
   "cell_type": "markdown",
   "metadata": {
    "heading_collapsed": true,
    "id": "Vac5ALbw2sXZ"
   },
   "source": [
    "# 22S1-AI6124 Fuzzy Membership Functions Assignment 3\n",
    "Created by A/Prof Kai Keng ANG (kkang@i2r.a-star.edu.sg, kkang@ntu.edu.sg). Last modified 5 Oct 2022\n",
    "\n",
    "Submitted by: Sean Goh Ann Ray\n",
    "Mat ID: G2202190G"
   ]
  },
  {
   "cell_type": "markdown",
   "metadata": {
    "id": "kV8Vfkxd3Iw6"
   },
   "source": [
    "# Instructions\n",
    "Enter your name according to NTU Learn, and your student ID above. Do not include the square brackets. Please save the file as Fuzzy_membership_[Student name].ipynb and submit in NTU Learn.\n",
    "\n",
    "There are 10 questions in this assignment. Some questions have multiple parts. Marks for each parts are indicated in the questions. Please read the question and hints carefully. \n"
   ]
  },
  {
   "cell_type": "markdown",
   "metadata": {
    "id": "HzZVQ9PC2uFx"
   },
   "source": [
    "## Objective\n",
    "\n",
    "After completing this tutorial assignment, you will know:\n",
    "\n",
    "* What are the different types of membership functions\n",
    "* How to use existing library to create and plot a fuzzy membership function\n",
    "* How to approximate one type of membership function using another type\n",
    "* How to relate python codes to equations of fuzzy membership functions\n",
    "* How to implement and run the Learning Vector Quantization (LVQ) algorithm \n",
    "* How to learn a set of winning vectors (or codebook vectors) using LVQ from a training data set.\n",
    "* How to make predictions using the learned vectors.\n",
    "* How to form fuzzy membership functions using the learned vectors."
   ]
  },
  {
   "cell_type": "markdown",
   "metadata": {
    "id": "CpsdOSzw2y00"
   },
   "source": [
    "## Introduction\n",
    "\n",
    "First we install the Python Fuzzy Logic library\n",
    "\n",
    "This library is based on Octave fuzzy-logic-toolkit of which is based on Matlab R2018b Fuzzy Logic Toolbox functions. However, not all the functions are working according to Matlab implmentation. There are also other toolboxes out there, such as scikit-fuzzy."
   ]
  },
  {
   "cell_type": "code",
   "execution_count": 1,
   "metadata": {
    "ExecuteTime": {
     "end_time": "2022-10-20T06:07:18.704002Z",
     "start_time": "2022-10-20T06:07:16.174838Z"
    },
    "colab": {
     "base_uri": "https://localhost:8080/"
    },
    "executionInfo": {
     "elapsed": 5090,
     "status": "ok",
     "timestamp": 1666095358891,
     "user": {
      "displayName": "Sean goh",
      "userId": "10849256875953016575"
     },
     "user_tz": -480
    },
    "id": "H-9zu0gJ2pQC",
    "outputId": "0774bae9-7909-4b90-e511-b3db639cd731"
   },
   "outputs": [
    {
     "name": "stdout",
     "output_type": "stream",
     "text": [
      "Requirement already satisfied: fuzzylab in /Users/sean/opt/anaconda3/lib/python3.9/site-packages (0.13)\r\n"
     ]
    }
   ],
   "source": [
    "!pip install -U fuzzylab"
   ]
  },
  {
   "cell_type": "markdown",
   "metadata": {
    "id": "OWT8IQt83Vuo"
   },
   "source": [
    "Then we import the necessary libraries"
   ]
  },
  {
   "cell_type": "code",
   "execution_count": 2,
   "metadata": {
    "ExecuteTime": {
     "end_time": "2022-10-20T06:07:27.904491Z",
     "start_time": "2022-10-20T06:07:26.703974Z"
    },
    "id": "zPwm_YPF3YIo"
   },
   "outputs": [],
   "source": [
    "import numpy as np\n",
    "import matplotlib.pyplot as plt\n",
    "import fuzzylab as fz\n",
    "from math import sqrt\n",
    "from random import randrange\n",
    "from random import seed"
   ]
  },
  {
   "cell_type": "markdown",
   "metadata": {
    "id": "h6ZO7esXF1rS"
   },
   "source": [
    "Most common fuzzy membership functions are triangular, trapezodal, Gaussian and bell-shaped."
   ]
  },
  {
   "cell_type": "markdown",
   "metadata": {
    "id": "C_md3jXE4_P9"
   },
   "source": [
    "# 1. Triangle  Membership Function (No Qn here)\n",
    "\n",
    "## Syntax\n",
    "\n",
    "$y = \\text{trimf$(x,[a, b, c])$}$\n",
    "\n",
    "## Description\n",
    "\n",
    "The triangular membership function of $x$ that depends on 3 parameters $a$, $b$, and $c$, as given by\n",
    "\n",
    "$\\begin{equation} f(x;a,b,c)= \\begin{cases} (x - a)/(b - a), &\\text{for $a < x < b$}\\\\ 1, &\\text{for $x = b$}\\\\ (c - x)/(c - b), &\\text{for $b < x < c$}\\\\ 0, &\\text{otherwise.} \\end{cases} \\end{equation}$\n",
    "\n",
    "$\\text{whereby $a < b < c$}$\n",
    "\n",
    "The parameters $a$ and $c$ define the “feet” of the triangle and the parameter $b$ defines the peak.\n",
    "\n",
    "The following plots a triangular membership function with 3 parameters"
   ]
  },
  {
   "cell_type": "code",
   "execution_count": 3,
   "metadata": {
    "ExecuteTime": {
     "end_time": "2022-10-20T06:07:30.130100Z",
     "start_time": "2022-10-20T06:07:30.042635Z"
    },
    "colab": {
     "base_uri": "https://localhost:8080/",
     "height": 279
    },
    "executionInfo": {
     "elapsed": 1326,
     "status": "ok",
     "timestamp": 1666095364621,
     "user": {
      "displayName": "Sean goh",
      "userId": "10849256875953016575"
     },
     "user_tz": -480
    },
    "id": "2AcVwVub5Qo6",
    "outputId": "2dd40889-3cf0-4e07-a04e-bf7b2c6e4953"
   },
   "outputs": [
    {
     "data": {
      "image/png": "[encoded data removed]",
      "text/plain": [
       "<Figure size 432x288 with 1 Axes>"
      ]
     },
     "metadata": {
      "needs_background": "light"
     },
     "output_type": "display_data"
    }
   ],
   "source": [
    "x = np.linspace(0, 20, 101)\n",
    "y = fz.trimf(x, [3, 10, 17])\n",
    "plt.plot(x, y)\n",
    "plt.xlabel('Triangle, P = [3, 10, 17]')\n",
    "plt.show()"
   ]
  },
  {
   "cell_type": "markdown",
   "metadata": {
    "id": "R8ZkmL65Pmzw"
   },
   "source": [
    "# 2. Gaussian Membership Function (DONE)\n",
    "\n",
    "## Syntax\n",
    "\n",
    "$y = \\text{gaussmf$(x,[a, b])$}$\n",
    "\n",
    "## Description\n",
    "\n",
    "The Gaussian memebership function of $x$ that depends on 2 parameters $a$, $b$, as given by\n",
    "\n",
    "$\\begin{equation} f(x;a,b)= e^\\frac{-(x-b)^2}{2a^2} \\end{equation}$\n",
    "\n",
    "The parameter $a$ defines the width or standard deviation and the parameter $b$ defines the centre or mean.\n"
   ]
  },
  {
   "cell_type": "markdown",
   "metadata": {
    "id": "LT7gWzqL9Q5g"
   },
   "source": [
    "<font color='red'>Question 1(a)</font>: Create a Gaussian membership function similar to the above trianglular membership function centered at 10 using gaussmf. <font color='red'>(0.5 mark)</font>\n"
   ]
  },
  {
   "cell_type": "code",
   "execution_count": 4,
   "metadata": {
    "ExecuteTime": {
     "end_time": "2022-10-20T06:07:32.414463Z",
     "start_time": "2022-10-20T06:07:32.334414Z"
    },
    "colab": {
     "base_uri": "https://localhost:8080/",
     "height": 279
    },
    "executionInfo": {
     "elapsed": 936,
     "status": "ok",
     "timestamp": 1666095371429,
     "user": {
      "displayName": "Sean goh",
      "userId": "10849256875953016575"
     },
     "user_tz": -480
    },
    "id": "TsH0GD5P9YZK",
    "outputId": "a3900b0b-41b2-45fe-edb8-aaf6f0104bc6"
   },
   "outputs": [
    {
     "data": {
      "image/png": "[encoded data removed]",
      "text/plain": [
       "<Figure size 432x288 with 1 Axes>"
      ]
     },
     "metadata": {
      "needs_background": "light"
     },
     "output_type": "display_data"
    }
   ],
   "source": [
    "## Enter your code here for Question 1(a). Some codes are included for you. This code does not execute without modification (MODIFIED - DONE)\n",
    "y = fz.gaussmf(x, [2.8, 10])\n",
    "plt.plot(x, y)\n",
    "y = fz.trimf(x, [3, 10, 17])\n",
    "plt.plot(x, y)\n",
    "plt.xlabel('Gaussian, P = [1, 10] vs Triangle, P = [3, 10, 17]')\n",
    "plt.show()"
   ]
  },
  {
   "cell_type": "markdown",
   "metadata": {
    "id": "FCHerKdXQG8x"
   },
   "source": [
    "# 3. Trapezoidal Membership Function (DONE)\n",
    "\n",
    "## Syntax\n",
    "\n",
    "$y = \\text{trapmf} (x,[a, b, c, d])$\n",
    "\n",
    "## Description\n",
    "\n",
    "The trapezoidal curve is a function of $x$ that depends on 4 parameters $a$, $b$, $c$, and $d$, as given by\n",
    "\n",
    "$\\begin{equation} f(x;a,b,c,d)= \\begin{cases} (x - a)/(b - a), &\\text{for $a < x < b$}\\\\ 1, &\\text{for $b \\leq x \\leq c$}\\\\ (d - x)/(d - c), &\\text{for $c < x < d$}\\\\ 0, &\\text{otherwise.} \\end{cases} \\end{equation}$\n",
    "\n",
    "$\\text{with $a < b < c < d$}$\n",
    "\n",
    "The parameters $a$ and $d$ define the “feet” of the trapezoid and the parameters $b$ and $c$ define the “shoulders.”\n"
   ]
  },
  {
   "cell_type": "markdown",
   "metadata": {
    "id": "JLafS6eS8sxg"
   },
   "source": [
    "The following creates a trapezoodal membership function with 4 parameters"
   ]
  },
  {
   "cell_type": "code",
   "execution_count": 5,
   "metadata": {
    "ExecuteTime": {
     "end_time": "2022-10-20T06:07:35.577570Z",
     "start_time": "2022-10-20T06:07:35.502414Z"
    },
    "colab": {
     "base_uri": "https://localhost:8080/",
     "height": 279
    },
    "executionInfo": {
     "elapsed": 592,
     "status": "ok",
     "timestamp": 1666095376985,
     "user": {
      "displayName": "Sean goh",
      "userId": "10849256875953016575"
     },
     "user_tz": -480
    },
    "id": "eyTSz2a280bf",
    "outputId": "f68024a8-d7b9-4707-bc28-ae50cbb2af5a"
   },
   "outputs": [
    {
     "data": {
      "image/png": "[encoded data removed]",
      "text/plain": [
       "<Figure size 432x288 with 1 Axes>"
      ]
     },
     "metadata": {
      "needs_background": "light"
     },
     "output_type": "display_data"
    }
   ],
   "source": [
    "y = fz.trapmf(x, [3, 6, 10, 18])\n",
    "plt.plot(x, y)\n",
    "plt.xlabel('Trapezoidal, P = [3, 6, 10, 18]')\n",
    "plt.show()"
   ]
  },
  {
   "cell_type": "markdown",
   "metadata": {
    "id": "UjeQOKVGK6CC"
   },
   "source": [
    "<font color='red'>Question 1(b)</font>: Use the function trapmf to plot a triangle membership function the same as section 1 above. <font color='red'>(0.5 mark)</font>"
   ]
  },
  {
   "cell_type": "code",
   "execution_count": 6,
   "metadata": {
    "ExecuteTime": {
     "end_time": "2022-10-20T06:07:39.282855Z",
     "start_time": "2022-10-20T06:07:39.144895Z"
    },
    "colab": {
     "base_uri": "https://localhost:8080/",
     "height": 541
    },
    "executionInfo": {
     "elapsed": 7,
     "status": "ok",
     "timestamp": 1666095379194,
     "user": {
      "displayName": "Sean goh",
      "userId": "10849256875953016575"
     },
     "user_tz": -480
    },
    "id": "S5QRxxeaLQAt",
    "outputId": "a7500355-1d26-46de-a8f2-9bff8b612929"
   },
   "outputs": [
    {
     "data": {
      "image/png": "[encoded data removed]",
      "text/plain": [
       "<Figure size 432x288 with 1 Axes>"
      ]
     },
     "metadata": {
      "needs_background": "light"
     },
     "output_type": "display_data"
    },
    {
     "data": {
      "image/png": "[encoded data removed]",
      "text/plain": [
       "<Figure size 432x288 with 1 Axes>"
      ]
     },
     "metadata": {
      "needs_background": "light"
     },
     "output_type": "display_data"
    }
   ],
   "source": [
    "# Modify the code here for Question 1(b). The original code here is not correct (MODIFIED - DONE)\n",
    "y = fz.trimf(x, [3, 10, 17])\n",
    "plt.plot(x, y)\n",
    "plt.xlabel('trimf, P = [3, 10, 17]')\n",
    "plt.show()\n",
    "\n",
    "y = fz.trapmf(x, [3, 10, 10, 17])\n",
    "plt.plot(x, y)\n",
    "plt.xlabel('Trapezoidal, P = [3, 10, 10, 17]')\n",
    "plt.show()"
   ]
  },
  {
   "cell_type": "markdown",
   "metadata": {
    "id": "SLk0RAkBWovU"
   },
   "source": [
    "# 4. Generalized Bell-shape Membership function (DONE)\n",
    "\n",
    "## Syntax\n",
    "\n",
    "$y = \\text{gbellmf} (x,[a, b, c])$\n",
    "\n",
    "## Description\n",
    "\n",
    "The generalized bell-shaped membership function of $x$ that depends on 3 parameters $a$, $b$ and $c$ as given by\n",
    "\n",
    "$\\begin{equation} f(x;a,b,c) = \\frac{1}{1 + |\\frac{x-c}{a}|^{2b}} \\end{equation}$\n",
    "\n",
    "- a controls the width of the bell.\n",
    "- b controls the gradient of the bell's slopes.\n",
    "- c controls the center value of the bell"
   ]
  },
  {
   "cell_type": "markdown",
   "metadata": {
    "id": "l1FXNOuwYtrY"
   },
   "source": [
    "<font color='red'>Question 2</font>: Give the code to plot a generalized bell-shape membership function similar to the above trapezoidal membership function in 3. You can refer to the code after question 3 for some hints on similar membership functions of different types. <font color='red'>(1 mark)</font>\n"
   ]
  },
  {
   "cell_type": "code",
   "execution_count": 7,
   "metadata": {
    "ExecuteTime": {
     "end_time": "2022-10-20T06:07:44.472898Z",
     "start_time": "2022-10-20T06:07:44.390982Z"
    },
    "colab": {
     "base_uri": "https://localhost:8080/",
     "height": 279
    },
    "executionInfo": {
     "elapsed": 470,
     "status": "ok",
     "timestamp": 1666095387246,
     "user": {
      "displayName": "Sean goh",
      "userId": "10849256875953016575"
     },
     "user_tz": -480
    },
    "id": "dRzwMrFIM911",
    "outputId": "5aa73d50-d953-44a6-ccd9-3571215c221d"
   },
   "outputs": [
    {
     "data": {
      "image/png": "[encoded data removed]",
      "text/plain": [
       "<Figure size 432x288 with 1 Axes>"
      ]
     },
     "metadata": {
      "needs_background": "light"
     },
     "output_type": "display_data"
    }
   ],
   "source": [
    "## Enter your code here for Question 2. Some codes are included for you. \n",
    "# This code does not execute without modification (MODIFIED - DONE)\n",
    "y = fz.gbellmf(x, [4, 2, 8.5])\n",
    "plt.plot(x, y)\n",
    "y = fz.trapmf(x, [3, 6, 10, 18])\n",
    "plt.plot(x, y)\n",
    "plt.xlabel('Generalized bell-shape, P = [2, 2, 8] vs Trapezoidal, P = [3, 6, 10, 18]')\n",
    "plt.show()\n",
    "\n",
    "# gbellmf doesn't allow a different steepness of the curve between the left and right, \n",
    "# unlike the trapmf which allows so, thus the solution will never overlap closely to the\n",
    "# trapmf with P = [3, 6, 10, 18] which has different slopes on either sides"
   ]
  },
  {
   "cell_type": "markdown",
   "metadata": {
    "id": "aluqPBUybBp1"
   },
   "source": [
    "# 5. Bell-shape Membership functions (DONE)\n",
    "\n",
    "## Syntax\n",
    "\n",
    "$y = \\text{bellmf} (x,[a, b, c, d])$\n",
    "\n",
    "## Description\n",
    "\n",
    "The generalized bell-shaped membership function of $x$ that depends on 4 parameters $a$, $b$, $c$ and $d$ as given by\n",
    "\n",
    "$\\begin{equation} f(x;a,b,c)= \\begin{cases} \\frac{1}{1+\\left\\lvert \\frac{x-c}{a} \\right\\rvert ^{2b}}, &\\text{for $x < c$} \\\\ \\frac{1}{1+\\left\\lvert \\frac{x-c}{a} \\right\\rvert ^{2d}}, &\\text{for $x \\geq c$} \\end{cases} \\end{equation}$\n",
    "\n",
    "- a controls the width of the bell.\n",
    "- b controls the gradient of the bell's left slope.\n",
    "- <font color='blue'>c</font> controls the midpoint of the bell.\n",
    "- d controls the gradient of the bell's right slope."
   ]
  },
  {
   "cell_type": "markdown",
   "metadata": {
    "id": "U6b81AIDaqLP"
   },
   "source": [
    "<font color='red'>Question 3</font>: bellmf function is not implemented in the Python Fuzzy Logic Library. Implement the function below. Hint: Look at gbellmf and trapmf implementation. Do not copy python code from elsewhere. <font color='red'>(1 mark)</font>"
   ]
  },
  {
   "cell_type": "code",
   "execution_count": 8,
   "metadata": {
    "ExecuteTime": {
     "end_time": "2022-10-20T06:07:48.461948Z",
     "start_time": "2022-10-20T06:07:48.449648Z"
    },
    "id": "iT1cWHMFapaV"
   },
   "outputs": [],
   "source": [
    "# Enter code for question 3 here (MODIFIED - DONE)\n",
    "def bellmf(x, params):\n",
    "    \n",
    "    assert len(params) == 4, 'Generalized membership function must have four parameters.'\n",
    "    a, b, c, d = params\n",
    "\n",
    "    return np.where(x < c, 1/(1 + (abs((x-c)/a)**(2*b))), 1/(1 + (abs((x-c)/a)**(2*d))))\n",
    "  "
   ]
  },
  {
   "cell_type": "markdown",
   "metadata": {
    "id": "T7tP8zyicnpi"
   },
   "source": [
    "Now that you implemented the bellmf, we can plot a generalized bell-shape membership function similar to the above trapezoidal membership function in section 3. We can also plot the trapezoidal membership function overlapped with the bell-shape membership function in the same graph. This plot serves as a hint to question 2.\n"
   ]
  },
  {
   "cell_type": "code",
   "execution_count": 9,
   "metadata": {
    "ExecuteTime": {
     "end_time": "2022-10-20T06:07:50.649910Z",
     "start_time": "2022-10-20T06:07:50.568789Z"
    },
    "colab": {
     "base_uri": "https://localhost:8080/",
     "height": 279
    },
    "executionInfo": {
     "elapsed": 4,
     "status": "ok",
     "timestamp": 1666095399798,
     "user": {
      "displayName": "Sean goh",
      "userId": "10849256875953016575"
     },
     "user_tz": -480
    },
    "id": "WXb5oPgxdof2",
    "outputId": "e15030df-eebf-42e1-9b2e-ab7d93a70345"
   },
   "outputs": [
    {
     "data": {
      "image/png": "[encoded data removed]",
      "text/plain": [
       "<Figure size 432x288 with 1 Axes>"
      ]
     },
     "metadata": {
      "needs_background": "light"
     },
     "output_type": "display_data"
    }
   ],
   "source": [
    "# This code will only run correctly if Question 3 above is answered correctly (MODIFIED - DONE)\n",
    "y = bellmf(x, [4.5, 4, 9, 1.5])\n",
    "plt.plot(x, y)\n",
    "y = fz.trapmf(x, [3, 6, 10, 18])\n",
    "plt.plot(x, y)\n",
    "plt.xlabel('trapmf, P = [3, 6, 10, 18] vs bellmf, P = [4.5, 4, 9, 1.5]')\n",
    "plt.show()"
   ]
  },
  {
   "cell_type": "markdown",
   "metadata": {
    "id": "urEwX7xknxWk"
   },
   "source": [
    "# 6. Storing Membership function type and parameters (DONE)\n",
    "\n",
    "We need a way to store the type of membership functions, the parameters, and a generic function to evaluate memership function. Unfortunately the fismf class in Python Fuzzy Logic library is not working well, probably coded for an older version of Python. So we have to fix the class definition."
   ]
  },
  {
   "cell_type": "code",
   "execution_count": 10,
   "metadata": {
    "ExecuteTime": {
     "end_time": "2022-10-20T06:07:53.376195Z",
     "start_time": "2022-10-20T06:07:53.368401Z"
    },
    "id": "kULjKcD1n9Oa"
   },
   "outputs": [],
   "source": [
    "# This class replaces the fismf function in the Python Fuzzy Logic Library.\n",
    "# This way of coding is highly not recommended, as the attributes of the class is not defined.\n",
    "class fismf(object):\n",
    "    def __init__(self, **attrs):\n",
    "        self.__dict__.update(**attrs)\n",
    "    def __getattr__(self, attr):\n",
    "        return self.__dict__.get(attr, None)"
   ]
  },
  {
   "cell_type": "markdown",
   "metadata": {
    "id": "yIERGCWLobPQ"
   },
   "source": [
    "The following code initializes a trapezoidal membership function with parameters, and plots it."
   ]
  },
  {
   "cell_type": "code",
   "execution_count": 11,
   "metadata": {
    "ExecuteTime": {
     "end_time": "2022-10-20T06:07:55.155245Z",
     "start_time": "2022-10-20T06:07:55.080543Z"
    },
    "colab": {
     "base_uri": "https://localhost:8080/",
     "height": 282
    },
    "executionInfo": {
     "elapsed": 926,
     "status": "ok",
     "timestamp": 1666095478943,
     "user": {
      "displayName": "Sean goh",
      "userId": "10849256875953016575"
     },
     "user_tz": -480
    },
    "id": "BdClD003ohTB",
    "outputId": "127c26df-19b3-418f-ebbc-2ee24a5a44e8"
   },
   "outputs": [
    {
     "data": {
      "text/plain": [
       "[<matplotlib.lines.Line2D at 0x7f82a0a248b0>]"
      ]
     },
     "execution_count": 11,
     "metadata": {},
     "output_type": "execute_result"
    },
    {
     "data": {
      "image/png": "[encoded data removed]",
      "text/plain": [
       "<Figure size 432x288 with 1 Axes>"
      ]
     },
     "metadata": {
      "needs_background": "light"
     },
     "output_type": "display_data"
    }
   ],
   "source": [
    "mymf = fismf(Type = 'trapmf', Parameters = [3, 6, 10, 18])\n",
    "plt.plot(x, fz.evalmf.evalmf(mymf, x))"
   ]
  },
  {
   "cell_type": "markdown",
   "metadata": {
    "id": "_YZy5JUAqEuE"
   },
   "source": [
    "<font color='red'>Question 4(a)</font>: Given a value z=4, find the Fuzzy Membership function value from mymf. <font color='red'>(0.5 mark)</font>"
   ]
  },
  {
   "cell_type": "code",
   "execution_count": 12,
   "metadata": {
    "ExecuteTime": {
     "end_time": "2022-10-20T06:07:57.663468Z",
     "start_time": "2022-10-20T06:07:57.656460Z"
    },
    "colab": {
     "base_uri": "https://localhost:8080/"
    },
    "executionInfo": {
     "elapsed": 4,
     "status": "ok",
     "timestamp": 1666095483959,
     "user": {
      "displayName": "Sean goh",
      "userId": "10849256875953016575"
     },
     "user_tz": -480
    },
    "id": "pkq7TAt_qSoO",
    "outputId": "58e5ffcf-d82e-48aa-a412-4a55ee8f336b"
   },
   "outputs": [
    {
     "name": "stdout",
     "output_type": "stream",
     "text": [
      "[0.33333333]\n"
     ]
    }
   ],
   "source": [
    "# Enter Code for Question 4(a) here. Code does not run without modification (MODIFIED - DONE)\n",
    "z = 4\n",
    "uz = fz.evalmf.evalmf(mymf, z)\n",
    "print(uz)"
   ]
  },
  {
   "cell_type": "markdown",
   "metadata": {
    "id": "Tw_5dhTKrecL"
   },
   "source": [
    "<font color='red'>Question 4(b)</font>: Now change mf to another type of membership function with different parameters and plot the membership function. <font color='red'>(0.5 mark)</font>"
   ]
  },
  {
   "cell_type": "code",
   "execution_count": 13,
   "metadata": {
    "ExecuteTime": {
     "end_time": "2022-10-20T06:08:00.298716Z",
     "start_time": "2022-10-20T06:08:00.223025Z"
    },
    "colab": {
     "base_uri": "https://localhost:8080/",
     "height": 282
    },
    "executionInfo": {
     "elapsed": 10,
     "status": "ok",
     "timestamp": 1666095488063,
     "user": {
      "displayName": "Sean goh",
      "userId": "10849256875953016575"
     },
     "user_tz": -480
    },
    "id": "jiJSlOjvrnIQ",
    "outputId": "6a3679ad-20dd-4e60-f013-661df8679b42"
   },
   "outputs": [
    {
     "name": "stdout",
     "output_type": "stream",
     "text": [
      "[0.14285714]\n"
     ]
    },
    {
     "data": {
      "image/png": "[encoded data removed]",
      "text/plain": [
       "<Figure size 432x288 with 1 Axes>"
      ]
     },
     "metadata": {
      "needs_background": "light"
     },
     "output_type": "display_data"
    }
   ],
   "source": [
    "# Enter code for question 4(b) here. No code provided for you (MODIFIED - DONE)\n",
    "mymf = fismf(Type = 'trimf', Parameters = [3, 10, 17])\n",
    "plt.plot(x, fz.evalmf.evalmf(mymf, x))\n",
    "z = 4\n",
    "uz = fz.evalmf.evalmf(mymf, z)\n",
    "print(uz)"
   ]
  },
  {
   "cell_type": "markdown",
   "metadata": {
    "id": "JRxtjNXx5t6H"
   },
   "source": [
    "# 7. Learning Vector Quantization (LVQ) algorithm (DONE)\n",
    "\n",
    "The Learning Vector Quantization (LVQ) algorithm is a lot like k-Nearest Neighbors. k-Nearest Neighbors need to keep a large database of training examples in order to make predictions. The LVQ  algorithm addresses uses a much smaller subset of patterns to represent the training data. These are called codebooks. We need to compute distances between the codebooks and the examples.\n",
    "\n",
    "Thus we needed is a function to calculate the distance between two samples or rows in a dataset.\n",
    "\n",
    "Rows of data are mostly made up of numbers and an easy way to calculate the distance between two rows or vectors of numbers is using the Euclidean distance measure. \n",
    "\n",
    "The equation of Euclidean distance between vectors *x* and *y* with length *n* is defined as\n",
    "\n",
    "\\begin{equation*}\n",
    "\\sqrt{\\sum_{k=1}^n (x_k - y_k)^2}\n",
    "\\end{equation*}\n",
    "\n",
    "In other words, Euclidean distance is the square root of the sum of the squared differences between the two vectors. \n"
   ]
  },
  {
   "cell_type": "code",
   "execution_count": 14,
   "metadata": {
    "ExecuteTime": {
     "end_time": "2022-10-20T06:08:08.296555Z",
     "start_time": "2022-10-20T06:08:08.284174Z"
    },
    "id": "sTogFP8O2La5"
   },
   "outputs": [],
   "source": [
    "# A function to calculate the Euclidean distance between two vectors\n",
    "def euclidean_distance2(x1, x2):\n",
    "    dist = 0.0\n",
    "    for i in range(len(x1)-1):\n",
    "        dist = dist + (x1[i] - x2[i])**2\n",
    "    return sqrt(dist)\n",
    "\n",
    "# A more effective way\n",
    "def euclidean_distance(x1,x2):   \n",
    "    return np.sqrt(np.sum((x1-x2)**2))"
   ]
  },
  {
   "cell_type": "markdown",
   "metadata": {
    "id": "M4vt4dj32La_"
   },
   "source": [
    "Now create some dataset to look at euclidean distance"
   ]
  },
  {
   "cell_type": "code",
   "execution_count": 15,
   "metadata": {
    "ExecuteTime": {
     "end_time": "2022-10-20T06:08:10.719573Z",
     "start_time": "2022-10-20T06:08:10.636452Z"
    },
    "colab": {
     "base_uri": "https://localhost:8080/",
     "height": 350
    },
    "executionInfo": {
     "elapsed": 5,
     "status": "ok",
     "timestamp": 1666095503327,
     "user": {
      "displayName": "Sean goh",
      "userId": "10849256875953016575"
     },
     "user_tz": -480
    },
    "id": "9za3BvNH2LbA",
    "outputId": "fa7545f8-9e12-4a0e-f96c-80afe7e57243"
   },
   "outputs": [
    {
     "name": "stdout",
     "output_type": "stream",
     "text": [
      "Sample 1: [1.2175922  0.56036226]\n",
      "Sample 2: [1.62863879 2.77830328]\n",
      "Sample 11: [-2.44851572 -2.92986553]\n",
      "Sample 12: [-1.76380919 -1.71145771]\n"
     ]
    },
    {
     "data": {
      "text/plain": [
       "<matplotlib.collections.PathCollection at 0x7f824016ad90>"
      ]
     },
     "execution_count": 15,
     "metadata": {},
     "output_type": "execute_result"
    },
    {
     "data": {
      "image/png": "[encoded data removed]",
      "text/plain": [
       "<Figure size 432x288 with 1 Axes>"
      ]
     },
     "metadata": {
      "needs_background": "light"
     },
     "output_type": "display_data"
    }
   ],
   "source": [
    "dataset = np.random.randn(20,2)\n",
    "dataset[1:10]+=(+2)\n",
    "dataset[10:20]+=(-2)\n",
    "print(\"Sample 1:\",dataset[0])\n",
    "print(\"Sample 2:\",dataset[1])\n",
    "print(\"Sample 11:\",dataset[10])\n",
    "print(\"Sample 12:\",dataset[11])\n",
    "plt.scatter(dataset[:,0], dataset[:,1])"
   ]
  },
  {
   "cell_type": "markdown",
   "metadata": {
    "id": "tfs9-i042LbE"
   },
   "source": [
    "Compute the euclidean distance between Sample 1 and Sample 2"
   ]
  },
  {
   "cell_type": "code",
   "execution_count": 16,
   "metadata": {
    "ExecuteTime": {
     "end_time": "2022-10-20T06:08:14.679320Z",
     "start_time": "2022-10-20T06:08:14.672404Z"
    },
    "colab": {
     "base_uri": "https://localhost:8080/"
    },
    "executionInfo": {
     "elapsed": 5,
     "status": "ok",
     "timestamp": 1666095507322,
     "user": {
      "displayName": "Sean goh",
      "userId": "10849256875953016575"
     },
     "user_tz": -480
    },
    "id": "tgW3H4al2LbF",
    "outputId": "0672d28e-b658-44b7-d6cd-30edc240fae8"
   },
   "outputs": [
    {
     "name": "stdout",
     "output_type": "stream",
     "text": [
      "Distance 1: 0.411046595057057\n"
     ]
    }
   ],
   "source": [
    "dist = euclidean_distance2(dataset[0],dataset[1])\n",
    "print(\"Distance 1:\",dist)"
   ]
  },
  {
   "cell_type": "code",
   "execution_count": 17,
   "metadata": {
    "ExecuteTime": {
     "end_time": "2022-10-20T06:08:16.137643Z",
     "start_time": "2022-10-20T06:08:16.129997Z"
    },
    "colab": {
     "base_uri": "https://localhost:8080/"
    },
    "executionInfo": {
     "elapsed": 4,
     "status": "ok",
     "timestamp": 1666095509749,
     "user": {
      "displayName": "Sean goh",
      "userId": "10849256875953016575"
     },
     "user_tz": -480
    },
    "id": "lXQP9MEa2LbH",
    "outputId": "88ecd2bc-9223-43a9-e7cb-bb217e5ca007"
   },
   "outputs": [
    {
     "name": "stdout",
     "output_type": "stream",
     "text": [
      "Distance 1: 2.255708682742333\n"
     ]
    }
   ],
   "source": [
    "dist2 = euclidean_distance(dataset[0],dataset[1])\n",
    "print(\"Distance 1:\",dist2)"
   ]
  },
  {
   "cell_type": "markdown",
   "metadata": {
    "id": "1ehf6vkS2LbL"
   },
   "source": [
    "<font color='red'>Question 5(a)</font>: The results are not the same. Which function: euclidean_distance or euclidean_distance2 is wrong? Fix the function that is wrong below. <font color='red'>(0.5 mark)</font>"
   ]
  },
  {
   "cell_type": "code",
   "execution_count": 18,
   "metadata": {
    "ExecuteTime": {
     "end_time": "2022-10-20T06:08:53.683414Z",
     "start_time": "2022-10-20T06:08:53.674379Z"
    },
    "colab": {
     "base_uri": "https://localhost:8080/"
    },
    "executionInfo": {
     "elapsed": 11,
     "status": "ok",
     "timestamp": 1666098325917,
     "user": {
      "displayName": "Sean goh",
      "userId": "10849256875953016575"
     },
     "user_tz": -480
    },
    "id": "WoDxU5acHi8o",
    "outputId": "abe8d9c2-db66-4914-e9d1-d954664c6ed0"
   },
   "outputs": [
    {
     "name": "stdout",
     "output_type": "stream",
     "text": [
      "Distance 1: 2.255708682742333\n"
     ]
    }
   ],
   "source": [
    "# Enter code for question 6 here (MODIFIED - DONE)\n",
    "# euclidean_distance2 is wrong, it didn't loop through all the data samples\n",
    "def euclidean_distance2(x1, x2):\n",
    "    dist = 0.0\n",
    "    for i in range(len(x1)):\n",
    "        dist = dist + (x1[i] - x2[i])**2\n",
    "    return sqrt(dist)\n",
    "\n",
    "dist = euclidean_distance2(dataset[0],dataset[1])\n",
    "print(\"Distance 1:\",dist)"
   ]
  },
  {
   "cell_type": "markdown",
   "metadata": {
    "id": "EwdVJs4i2LbM"
   },
   "source": [
    "# 8. Find the Winner (DONE)\n",
    "The Winner weight, or so called the winning codebook, also called Best Matching Vector, is the weight or codebook that is most similar to a new piece of data.\n",
    "\n",
    "To identify the Winner for a new piece of data within a dataset we must first calculate the distance between each weight or codebook to the new piece of data. We can do this using our distance function above.\n",
    "\n",
    "Once distances are calculated, we must sort all of the weights or codebooks by their distance to the new data. We can then return most similar weight or codebook vector with the smallest distance to the new data.\n",
    "\n",
    "We can do this by keeping track of the distance for each record in the dataset as a tuple, sort the list of tuples by the distance (in descending order) and then retrieve the winner.\n",
    "\n",
    "Below is a function named get_best_matching_unit() that implements this."
   ]
  },
  {
   "cell_type": "code",
   "execution_count": 19,
   "metadata": {
    "ExecuteTime": {
     "end_time": "2022-10-20T06:09:38.060389Z",
     "start_time": "2022-10-20T06:09:38.047698Z"
    },
    "id": "fOYn3hua2LbM"
   },
   "outputs": [],
   "source": [
    "# Locate the best matching unit\n",
    "def find_winner(weights, test_sample):\n",
    "    distances = list()\n",
    "    for weight_index, weight in enumerate(weights):\n",
    "        dist = euclidean_distance(weight, test_sample)\n",
    "        distances.append((weight_index, dist))\n",
    "    distances.sort(key=lambda tuple: tuple[1])\n",
    "    return distances[0][0]"
   ]
  },
  {
   "cell_type": "markdown",
   "metadata": {
    "id": "4n-c8jAo2LbS"
   },
   "source": [
    "The euclidean_distance() function in section 1 is used to calculate the distance between each weight or codebook with the new test_sample.\n",
    "\n",
    "The list of codebook vectors and distance tuples is sorted where a custom key is used ensuring that the second item in the tuple (tuple[1]) is used in the sorting operation.\n",
    "\n",
    "Finally, the most similar weight or codebook vector is returned as the winner.\n",
    "\n",
    "We can test this function with the small dataset prepared in section 1."
   ]
  },
  {
   "cell_type": "code",
   "execution_count": 20,
   "metadata": {
    "ExecuteTime": {
     "end_time": "2022-10-20T06:09:41.663669Z",
     "start_time": "2022-10-20T06:09:41.655474Z"
    },
    "colab": {
     "base_uri": "https://localhost:8080/"
    },
    "executionInfo": {
     "elapsed": 7,
     "status": "ok",
     "timestamp": 1666095541583,
     "user": {
      "displayName": "Sean goh",
      "userId": "10849256875953016575"
     },
     "user_tz": -480
    },
    "id": "EItNnFAq2LbT",
    "outputId": "360be20e-b5ce-41a0-bba5-9b5dbc1e4c35"
   },
   "outputs": [
    {
     "name": "stdout",
     "output_type": "stream",
     "text": [
      "Winner : 0\n",
      "Winner : 1\n"
     ]
    }
   ],
   "source": [
    "winner=find_winner([dataset[i] for i in [0,10]],dataset[0])\n",
    "print(\"Winner :\",winner)\n",
    "winner=find_winner([dataset[i] for i in [0,10]],dataset[10])\n",
    "print(\"Winner :\",winner)"
   ]
  },
  {
   "cell_type": "markdown",
   "metadata": {
    "id": "GdutOKBC2LbW"
   },
   "source": [
    "<font color='red'>Question 5(b)</font>: How many weights or codebooks were passed to the function find_winner? <font color='red'>(0.25 mark)</font>"
   ]
  },
  {
   "cell_type": "markdown",
   "metadata": {
    "id": "NjZxCpf-JsqM"
   },
   "source": [
    "2 per function call (dataset[0] and dataset[10] were the weights)"
   ]
  },
  {
   "cell_type": "markdown",
   "metadata": {
    "id": "WT4-6dsVJwb0"
   },
   "source": [
    "<font color='red'>Question 5(c)</font>: How many test samples were passed to the function find_winner? <font color='red'>(0.25 mark)</font>"
   ]
  },
  {
   "cell_type": "markdown",
   "metadata": {
    "id": "kRrAtZ2WJ4G7"
   },
   "source": [
    "1 per function call (first function called dataset[0] and second function called dataset[10] as test samples)"
   ]
  },
  {
   "cell_type": "markdown",
   "metadata": {
    "id": "RJ_D9CZ32LbW"
   },
   "source": [
    "# 9. Initialize LVQ Weight Vectors (DONE)\n",
    "\n",
    "Before we train a set of weights or codebook vectors, we have to initialize the weights.\n",
    "\n",
    "We can initialize it with patterns constructed from random features in the training dataset. This is one way to initialize it. Another way is to randomize the weights to a certain range of the input dataset instead of using one of the samples. There are advantages and disadvantages to different ways of initializing the weights.\n",
    "\n",
    "Below is a function named random_weight() that picks a random sample from the training data."
   ]
  },
  {
   "cell_type": "code",
   "execution_count": 21,
   "metadata": {
    "ExecuteTime": {
     "end_time": "2022-10-20T06:09:44.762041Z",
     "start_time": "2022-10-20T06:09:44.757354Z"
    },
    "id": "E-hlGRxP2LbX"
   },
   "outputs": [],
   "source": [
    "# Assign a random codebook vector from the training data\n",
    "def random_weight(traindata):\n",
    "    n_records = len(traindata)    \n",
    "    weight = traindata[randrange(n_records)]\n",
    "    return weight"
   ]
  },
  {
   "cell_type": "markdown",
   "metadata": {
    "id": "fnAxve_92Lba"
   },
   "source": [
    "We can test this function with the small dataset prepared in section 1."
   ]
  },
  {
   "cell_type": "code",
   "execution_count": 24,
   "metadata": {
    "ExecuteTime": {
     "end_time": "2022-10-20T06:10:06.793071Z",
     "start_time": "2022-10-20T06:10:06.785575Z"
    },
    "colab": {
     "base_uri": "https://localhost:8080/"
    },
    "executionInfo": {
     "elapsed": 538,
     "status": "ok",
     "timestamp": 1666095592228,
     "user": {
      "displayName": "Sean goh",
      "userId": "10849256875953016575"
     },
     "user_tz": -480
    },
    "id": "h3Fevm912Lba",
    "outputId": "87cf2fac-a094-406b-c2ab-463e7eaaca44"
   },
   "outputs": [
    {
     "name": "stdout",
     "output_type": "stream",
     "text": [
      "Weight: [2.42713286 1.53613043]\n"
     ]
    }
   ],
   "source": [
    "weight=random_weight(dataset)\n",
    "print(\"Weight:\",weight)"
   ]
  },
  {
   "cell_type": "code",
   "execution_count": 23,
   "metadata": {
    "ExecuteTime": {
     "end_time": "2022-10-20T06:09:50.225050Z",
     "start_time": "2022-10-20T06:09:50.212200Z"
    },
    "colab": {
     "base_uri": "https://localhost:8080/"
    },
    "executionInfo": {
     "elapsed": 4,
     "status": "ok",
     "timestamp": 1666095567426,
     "user": {
      "displayName": "Sean goh",
      "userId": "10849256875953016575"
     },
     "user_tz": -480
    },
    "id": "wUhy3mHcTtGH",
    "outputId": "d5fa2938-84e5-43ea-fa3c-ff4e55c92c5e"
   },
   "outputs": [
    {
     "name": "stdout",
     "output_type": "stream",
     "text": [
      "dataset 0 is [1.2175922  0.56036226]\n",
      "dataset 1 is [1.62863879 2.77830328]\n",
      "dataset 2 is [0.52835664 1.05302984]\n",
      "dataset 3 is [3.36450676 3.23508242]\n",
      "dataset 4 is [2.42713286 1.53613043]\n",
      "dataset 5 is [2.1209974 2.3683752]\n",
      "dataset 6 is [0.16665837 1.2229133 ]\n",
      "dataset 7 is [0.64654404 2.09632968]\n",
      "dataset 8 is [2.68954061 3.06626581]\n",
      "dataset 9 is [1.5765608  3.41309517]\n",
      "dataset 10 is [-2.44851572 -2.92986553]\n",
      "dataset 11 is [-1.76380919 -1.71145771]\n",
      "dataset 12 is [-2.63503636 -0.08147836]\n",
      "dataset 13 is [-2.6532495  -2.91184247]\n",
      "dataset 14 is [-1.87738324 -0.84177707]\n",
      "dataset 15 is [-2.11885299 -2.76264124]\n",
      "dataset 16 is [-3.0660041  -2.42622184]\n",
      "dataset 17 is [-2.34219938 -2.22530907]\n",
      "dataset 18 is [-1.30463148 -3.31373027]\n",
      "dataset 19 is [-2.49741777 -3.37305242]\n"
     ]
    }
   ],
   "source": [
    "# this cell is to list the data samples to answer questions 6(a) and 6(b)\n",
    "for i in range(len(dataset)):\n",
    "  print(f'dataset {i} is {dataset[i]}')"
   ]
  },
  {
   "cell_type": "markdown",
   "metadata": {
    "id": "Sa1z_8mU2Lbf"
   },
   "source": [
    "<font color='red'>Question 6(a)</font>: Which sample is selected as the weight? Give the index of the sample selected. <font color='red'>(0.5 mark)</font>"
   ]
  },
  {
   "cell_type": "markdown",
   "metadata": {
    "id": "IdUQ2C67Kuug"
   },
   "source": [
    "index number 3"
   ]
  },
  {
   "cell_type": "markdown",
   "metadata": {
    "id": "5tyxZUy-TDq0"
   },
   "source": [
    "<font color='red'>Question 6(b)</font>: If you run again, what happens? <font color='red'>(0.5 mark)</font>"
   ]
  },
  {
   "cell_type": "markdown",
   "metadata": {
    "id": "RMjTHLIuTG_C"
   },
   "source": [
    "a different sample is selected as the weight (index number 4)"
   ]
  },
  {
   "cell_type": "markdown",
   "metadata": {
    "id": "gbjTfTh52Lbg"
   },
   "source": [
    "# 10. Training LVQ Weight Vectors (DONE)\n",
    "\n",
    "After the weights are initialized to a random set, they have to be trained using the training data. This is done iteratively.\n",
    "\n",
    "The training process is repeated for a fixed number of epochs, or so called exposures of the training data. In an epoch, each training sample is used to update the set of weight or codebook vectors.\n",
    "\n",
    "For a training pattern, a winner vector is updated to move it closer or further away. A winner is found for each training pattern and only this winner is updated. The difference between the training pattern and the winner is calculated as the error. \n",
    "\n",
    "The amount that the winner is adjusted is controlled by a learning rate. This is the amount of change made to the winner. For example, a learning rate of 0.3 means that the winner are only moved by 30% of the error or difference between the training data and the winner.\n",
    "\n",
    "The learning rate is also adjusted so that it has maximum effect in the first epoch and the effect lessen as training continues until it has a minimal effect in the final epoch. This is called a linear decay learning rate commonly used in artificial neural networks.\n",
    "\n",
    "Below is a function named train_weights() that implements the procedure for training a set of weight vectors given a training dataset.\n",
    "\n",
    "The function takes 3 additional arguments to the training dataset, the number of weights or codebook vectors to create and train, the initial learning rate and the number of epochs.\n",
    "\n",
    "The function keeps track of the sum squared error each epoch and prints a message showing the epoch number, effective learning rate and sum squared error score. This is helpful when debugging the training function or the specific configuration for a given prediction problem. The random_weight function is used to initialize the codebook vectors and the find_winner function is used to find the winner for each training pattern within an epoch.\n"
   ]
  },
  {
   "cell_type": "code",
   "execution_count": 25,
   "metadata": {
    "ExecuteTime": {
     "end_time": "2022-10-20T06:10:46.172630Z",
     "start_time": "2022-10-20T06:10:46.161099Z"
    },
    "id": "OaqnyCwT2Lbi"
   },
   "outputs": [],
   "source": [
    "# Train a set of codebook vectors\n",
    "def train_LVQ(traindata, weights, lrate, epochs):    \n",
    "    print(\"Weights:\",weights)\n",
    "    for epoch in range(epochs):\n",
    "        rate = lrate * (1.0-(epoch/float(epochs)))\n",
    "        sum_error = 0.0\n",
    "        for row in traindata:\n",
    "            winner_index = find_winner(weights, row)\n",
    "            #print(\"Winner:\",winner)\n",
    "            error = (row - weights[winner_index])\n",
    "            sum_error = sum_error + sqrt(sum(error**2))\n",
    "            # This line has an error in changing the original dataset \n",
    "            # weights[winner_index] += rate * error\n",
    "            weights[winner_index] = weights[winner_index] + rate * error\n",
    "            #print(\"Winner:\",winner)\n",
    "        print('>epoch=%d, lrate=%.3f, error=%.3f' % (epoch, rate, sum_error))\n",
    "    return weights\n"
   ]
  },
  {
   "cell_type": "markdown",
   "metadata": {
    "id": "a03PlRpq2Lbm"
   },
   "source": [
    "Run this to train a set of 2 weight vectors for 20 epochs with an initial learning rate of 0.3. The details are printed each epoch and the set of 2 codebook vectors learned from the training data is displayed.\n",
    "\n",
    "We can see that the changes to learning rate meet our expectations explored above for each epoch. We can also see that the sum squared error each epoch does continue to drop at the end of training and that there may be an opportunity to tune the example further to achieve less error"
   ]
  },
  {
   "cell_type": "code",
   "execution_count": 26,
   "metadata": {
    "ExecuteTime": {
     "end_time": "2022-10-20T06:10:48.785566Z",
     "start_time": "2022-10-20T06:10:48.672931Z"
    },
    "colab": {
     "base_uri": "https://localhost:8080/",
     "height": 656
    },
    "executionInfo": {
     "elapsed": 13,
     "status": "ok",
     "timestamp": 1666096462476,
     "user": {
      "displayName": "Sean goh",
      "userId": "10849256875953016575"
     },
     "user_tz": -480
    },
    "id": "IZcalHDb2Lbn",
    "outputId": "0fd840b6-f302-440f-b750-604c913187a6"
   },
   "outputs": [
    {
     "name": "stdout",
     "output_type": "stream",
     "text": [
      "Initial weights: [array([0.52835664, 1.05302984]), array([0.16665837, 1.2229133 ])]\n",
      "Weights: [array([0.52835664, 1.05302984]), array([0.16665837, 1.2229133 ])]\n",
      ">epoch=0, lrate=0.300, error=30.232\n",
      ">epoch=1, lrate=0.285, error=25.447\n",
      ">epoch=2, lrate=0.270, error=25.145\n",
      ">epoch=3, lrate=0.255, error=25.010\n",
      ">epoch=4, lrate=0.240, error=24.878\n",
      ">epoch=5, lrate=0.225, error=24.745\n",
      ">epoch=6, lrate=0.210, error=24.611\n",
      ">epoch=7, lrate=0.195, error=24.475\n",
      ">epoch=8, lrate=0.180, error=24.337\n",
      ">epoch=9, lrate=0.165, error=24.196\n",
      ">epoch=10, lrate=0.150, error=24.053\n",
      ">epoch=11, lrate=0.135, error=23.907\n",
      ">epoch=12, lrate=0.120, error=23.758\n",
      ">epoch=13, lrate=0.105, error=23.608\n",
      ">epoch=14, lrate=0.090, error=23.459\n",
      ">epoch=15, lrate=0.075, error=23.313\n",
      ">epoch=16, lrate=0.060, error=23.169\n",
      ">epoch=17, lrate=0.045, error=23.022\n",
      ">epoch=18, lrate=0.030, error=22.870\n",
      ">epoch=19, lrate=0.015, error=22.711\n",
      "Weights: [array([1.63882166, 2.20381445]), array([-2.26307328, -2.32849897])]\n"
     ]
    },
    {
     "data": {
      "image/png": "[encoded data removed]",
      "text/plain": [
       "<Figure size 432x288 with 1 Axes>"
      ]
     },
     "metadata": {
      "needs_background": "light"
     },
     "output_type": "display_data"
    }
   ],
   "source": [
    "n_weights = 2\n",
    "weights = [random_weight(dataset) for i in range(n_weights)]\n",
    "seed(1)\n",
    "learn_rate = 0.3\n",
    "n_epochs = 20\n",
    "print(\"Initial weights:\",weights)\n",
    "weights = train_LVQ(dataset, weights, learn_rate, n_epochs)\n",
    "print(\"Weights:\",weights)\n",
    "nweights=np.array(weights)\n",
    "area = np.pi*3\n",
    "plt.scatter(dataset[:,0], dataset[:,1],area,c=\"blue\",label=\"Data\")\n",
    "plt.scatter(nweights[:,0], nweights[:,1],area,c=\"red\",label=\"Weights\")\n",
    "plt.legend(loc=2)\n",
    "plt.show()"
   ]
  },
  {
   "cell_type": "markdown",
   "metadata": {
    "id": "QpzS1ou12Lbr"
   },
   "source": [
    "Now what happens if we change the random initialization of weights"
   ]
  },
  {
   "cell_type": "code",
   "execution_count": 27,
   "metadata": {
    "ExecuteTime": {
     "end_time": "2022-10-20T06:11:19.709566Z",
     "start_time": "2022-10-20T06:11:19.579330Z"
    },
    "colab": {
     "base_uri": "https://localhost:8080/",
     "height": 656
    },
    "executionInfo": {
     "elapsed": 629,
     "status": "ok",
     "timestamp": 1666096482287,
     "user": {
      "displayName": "Sean goh",
      "userId": "10849256875953016575"
     },
     "user_tz": -480
    },
    "id": "BkkPkezc2Lbr",
    "outputId": "9299816a-9b4a-4b25-9924-3a2c105e61c5"
   },
   "outputs": [
    {
     "name": "stdout",
     "output_type": "stream",
     "text": [
      "Initial weights: [array([1.2175922 , 0.56036226]), array([1.62863879, 2.77830328])]\n",
      "Weights: [array([1.2175922 , 0.56036226]), array([1.62863879, 2.77830328])]\n",
      ">epoch=0, lrate=0.300, error=27.531\n",
      ">epoch=1, lrate=0.285, error=25.609\n",
      ">epoch=2, lrate=0.270, error=25.149\n",
      ">epoch=3, lrate=0.255, error=25.011\n",
      ">epoch=4, lrate=0.240, error=24.878\n",
      ">epoch=5, lrate=0.225, error=24.745\n",
      ">epoch=6, lrate=0.210, error=24.611\n",
      ">epoch=7, lrate=0.195, error=24.475\n",
      ">epoch=8, lrate=0.180, error=24.337\n",
      ">epoch=9, lrate=0.165, error=24.196\n",
      ">epoch=10, lrate=0.150, error=24.053\n",
      ">epoch=11, lrate=0.135, error=23.907\n",
      ">epoch=12, lrate=0.120, error=23.758\n",
      ">epoch=13, lrate=0.105, error=23.608\n",
      ">epoch=14, lrate=0.090, error=23.459\n",
      ">epoch=15, lrate=0.075, error=23.313\n",
      ">epoch=16, lrate=0.060, error=23.169\n",
      ">epoch=17, lrate=0.045, error=23.022\n",
      ">epoch=18, lrate=0.030, error=22.870\n",
      ">epoch=19, lrate=0.015, error=22.711\n",
      "Weights: [array([-2.26307328, -2.32849897]), array([1.63882166, 2.20381445])]\n"
     ]
    },
    {
     "data": {
      "image/png": "[encoded data removed]",
      "text/plain": [
       "<Figure size 432x288 with 1 Axes>"
      ]
     },
     "metadata": {
      "needs_background": "light"
     },
     "output_type": "display_data"
    }
   ],
   "source": [
    "weights = [dataset[i] for i in [0,1]]\n",
    "print(\"Initial weights:\",weights)\n",
    "weights = train_LVQ(dataset, weights, learn_rate, n_epochs)\n",
    "print(\"Weights:\",weights)\n",
    "nweights=np.array(weights)\n",
    "area = np.pi*3\n",
    "plt.scatter(dataset[:,0], dataset[:,1],area,c=\"blue\",label=\"Data\")\n",
    "plt.scatter(nweights[:,0], nweights[:,1],area,c=\"red\",label=\"Weights\")\n",
    "plt.legend(loc=2)\n",
    "plt.show()"
   ]
  },
  {
   "cell_type": "markdown",
   "metadata": {
    "id": "s9Dv5RPA2Lbu"
   },
   "source": [
    "<font color='red'>Question 7(a)</font>: What does the initialization of weights impact the LVQ algorithm? <font color='red'>(0.5 mark)</font>"
   ]
  },
  {
   "cell_type": "markdown",
   "metadata": {
    "id": "yOX96VsOUg9e"
   },
   "source": [
    "The initial 'weights' can be seen as the initial 'center' of the neighbourhoods to train the algorithm. If the initial weights already 'split' the neighbourhoods clearly, the initial error will already be small and finding the final weights can be done in a smaller number of epoch. However, if the initial weights are selected close to each other and close to the corner of the map, the initial error will be very large and finding the final weights will take a larger number of epoch, where the final weights may not converge if there is insufficient epochs."
   ]
  },
  {
   "cell_type": "markdown",
   "metadata": {
    "id": "Cv7SLbcmU1_F"
   },
   "source": [
    "<font color='red'>Question 7(b)</font>: What other parameters also affect the LVQ algorithm? Show with code. <font color='red'>(0.5 mark)</font>"
   ]
  },
  {
   "cell_type": "markdown",
   "metadata": {
    "id": "f_kEtQ8jVLuV"
   },
   "source": [
    "1) Learning rate. The learning rate affects the speed at which the algorithm reduces the error. In the provided algorithm, the learning rate decreases linearly with the number of epoch, but may be improved with an exponential decay rate (decreases more at the beginning instead as the initial errors would be fairly large compared to those after a number of epoch\n",
    "\n",
    "2) Number of epoch. With more iterations, the algorithm will always try to find a better solution that gives a smaller error, assuming that there is no additional rule (e.g. convergence) to break out of the iteration loop\n",
    "\n",
    "3) Number of weights (AKA number of clusters/neighbourhoods). An different number of weights would obviously change the output of the algorithm drastically"
   ]
  },
  {
   "cell_type": "code",
   "execution_count": 28,
   "metadata": {
    "ExecuteTime": {
     "end_time": "2022-10-20T06:12:06.192321Z",
     "start_time": "2022-10-20T06:12:06.075205Z"
    },
    "colab": {
     "base_uri": "https://localhost:8080/",
     "height": 826
    },
    "executionInfo": {
     "elapsed": 816,
     "status": "ok",
     "timestamp": 1666096854881,
     "user": {
      "displayName": "Sean goh",
      "userId": "10849256875953016575"
     },
     "user_tz": -480
    },
    "id": "TtD8_GY8VGA4",
    "outputId": "db235d54-84db-4512-f5ae-a249659be9e1"
   },
   "outputs": [
    {
     "name": "stdout",
     "output_type": "stream",
     "text": [
      "Initial weights: [array([1.2175922 , 0.56036226]), array([1.62863879, 2.77830328])]\n",
      "Weights: [array([1.2175922 , 0.56036226]), array([1.62863879, 2.77830328])]\n",
      ">epoch=0, lrate=0.300, error=27.531\n",
      ">epoch=1, lrate=0.290, error=25.648\n",
      ">epoch=2, lrate=0.280, error=25.232\n",
      ">epoch=3, lrate=0.270, error=25.138\n",
      ">epoch=4, lrate=0.260, error=25.051\n",
      ">epoch=5, lrate=0.250, error=24.963\n",
      ">epoch=6, lrate=0.240, error=24.876\n",
      ">epoch=7, lrate=0.230, error=24.788\n",
      ">epoch=8, lrate=0.220, error=24.700\n",
      ">epoch=9, lrate=0.210, error=24.611\n",
      ">epoch=10, lrate=0.200, error=24.522\n",
      ">epoch=11, lrate=0.190, error=24.431\n",
      ">epoch=12, lrate=0.180, error=24.340\n",
      ">epoch=13, lrate=0.170, error=24.248\n",
      ">epoch=14, lrate=0.160, error=24.154\n",
      ">epoch=15, lrate=0.150, error=24.059\n",
      ">epoch=16, lrate=0.140, error=23.964\n",
      ">epoch=17, lrate=0.130, error=23.867\n",
      ">epoch=18, lrate=0.120, error=23.769\n",
      ">epoch=19, lrate=0.110, error=23.670\n",
      ">epoch=20, lrate=0.100, error=23.571\n",
      ">epoch=21, lrate=0.090, error=23.473\n",
      ">epoch=22, lrate=0.080, error=23.375\n",
      ">epoch=23, lrate=0.070, error=23.279\n",
      ">epoch=24, lrate=0.060, error=23.183\n",
      ">epoch=25, lrate=0.050, error=23.086\n",
      ">epoch=26, lrate=0.040, error=22.988\n",
      ">epoch=27, lrate=0.030, error=22.888\n",
      ">epoch=28, lrate=0.020, error=22.784\n",
      ">epoch=29, lrate=0.010, error=22.676\n",
      "Weights: [array([-2.26462983, -2.31439494]), array([1.63856383, 2.19012789])]\n"
     ]
    },
    {
     "data": {
      "image/png": "[encoded data removed]",
      "text/plain": [
       "<Figure size 432x288 with 1 Axes>"
      ]
     },
     "metadata": {
      "needs_background": "light"
     },
     "output_type": "display_data"
    }
   ],
   "source": [
    "# Enter code for Question 7(b) here (MODIFIED - DONE)\n",
    "# Assuming the number of weights remains the same, and the algorithm doesn't change (same linear decay\n",
    "# of the learning rate), only the number of epoch parameter was changed here. For fair comparison, \n",
    "# this code uses the first 2 dataset as the initial weights, just like the code cell before this\n",
    "\n",
    "weights = [dataset[i] for i in [0,1]]\n",
    "print(\"Initial weights:\",weights)\n",
    "n_epochs = 30\n",
    "weights = train_LVQ(dataset, weights, learn_rate, n_epochs)\n",
    "print(\"Weights:\",weights)\n",
    "nweights=np.array(weights)\n",
    "area = np.pi*3\n",
    "plt.scatter(dataset[:,0], dataset[:,1],area,c=\"blue\",label=\"Data\")\n",
    "plt.scatter(nweights[:,0], nweights[:,1],area,c=\"red\",label=\"Weights\")\n",
    "plt.legend(loc=2)\n",
    "plt.show()\n",
    "\n",
    "# It can be seen that increasing the number of epoch from 20 to 30 did reduce the error, but not by\n",
    "# much. This shows that the error is near convergence and increasing the number of epoch would not \n",
    "# improve the solution by a lot, and is probably not worth the increase in computational cost."
   ]
  },
  {
   "cell_type": "markdown",
   "metadata": {
    "id": "abvnvhaI2Lbu"
   },
   "source": [
    "# 11. Generating Fuzzy Membership functions using LVQ algorithm\n",
    "\n",
    "In the example above, there are 2 winning vectors, each vector has 2 dimensions. This can be view as 2 inputs with 2 membership functions each.\n"
   ]
  },
  {
   "cell_type": "markdown",
   "metadata": {
    "id": "UxIAqXlx2Lbv"
   },
   "source": [
    "<font color='red'>Question 8</font>: Use the winning vectors to generate triangle fuzzy membership functions for dimension 1. Plot the 2 membership functions, one for each winning vector on the same plot using different colors. <font color='red'>(1 mark)</font>"
   ]
  },
  {
   "cell_type": "code",
   "execution_count": 29,
   "metadata": {
    "ExecuteTime": {
     "end_time": "2022-10-20T06:12:24.164514Z",
     "start_time": "2022-10-20T06:12:24.084960Z"
    },
    "colab": {
     "base_uri": "https://localhost:8080/",
     "height": 279
    },
    "executionInfo": {
     "elapsed": 814,
     "status": "ok",
     "timestamp": 1666097449990,
     "user": {
      "displayName": "Sean goh",
      "userId": "10849256875953016575"
     },
     "user_tz": -480
    },
    "id": "Y1A-XkK8WrVb",
    "outputId": "ecd4ed35-c376-4203-e989-12a62f20e317"
   },
   "outputs": [
    {
     "data": {
      "image/png": "[encoded data removed]",
      "text/plain": [
       "<Figure size 432x288 with 1 Axes>"
      ]
     },
     "metadata": {
      "needs_background": "light"
     },
     "output_type": "display_data"
    }
   ],
   "source": [
    "# Enter code for Question 8 here (MODIFIED - DONE)\n",
    "\n",
    "# get range to plot\n",
    "dim1_max = np.max(dataset[:,0])\n",
    "dim1_min = np.min(dataset[:,0])\n",
    "x = np.linspace(dim1_min, dim1_max, 1001)\n",
    "\n",
    "# sort nweights by dim1 for order\n",
    "nweights = nweights[nweights[:, 0].argsort()]\n",
    "\n",
    "# get center of triangular fmf from nweights\n",
    "b = np.sort(nweights[:,0])\n",
    "\n",
    "# initialize a and c\n",
    "a = np.zeros((len(b),1))\n",
    "c = np.zeros((len(b),1))\n",
    "\n",
    "# get median value of dataset\n",
    "dim1_med = np.median(dataset[:,0])\n",
    "\n",
    "# set a[0] to be minimum value of dataset,\n",
    "# c[0] and a[1] to be the median value of dataset, \n",
    "# and c[1] to be maximum value\n",
    "a[0] = dim1_min\n",
    "c[0] = dim1_med\n",
    "a[1] = dim1_med\n",
    "c[1] = dim1_max\n",
    "\n",
    "# plot triangular FMF\n",
    "fmf_1 = fz.trimf(x, [a[0], b[0], c[0]])\n",
    "fmf_2 = fz.trimf(x, [a[1], b[1], c[1]])\n",
    "plt.plot(x, fmf_1)\n",
    "plt.plot(x, fmf_2)\n",
    "plt.xlabel('Triangle FMF for dimension 1')\n",
    "plt.show()"
   ]
  },
  {
   "cell_type": "markdown",
   "metadata": {
    "id": "hxwKdeNC2Lbw"
   },
   "source": [
    "<font color='red'>Question 9</font>: Use the winning vectors to generate Gaussian membership functions for dimension 2. Plot the 2 membership functions, one for each winning vector on the same plot using different colors. <font color='red'>(1 mark)</font>"
   ]
  },
  {
   "cell_type": "code",
   "execution_count": 30,
   "metadata": {
    "ExecuteTime": {
     "end_time": "2022-10-20T06:12:29.028909Z",
     "start_time": "2022-10-20T06:12:28.958178Z"
    },
    "colab": {
     "base_uri": "https://localhost:8080/",
     "height": 279
    },
    "executionInfo": {
     "elapsed": 10,
     "status": "ok",
     "timestamp": 1666098042676,
     "user": {
      "displayName": "Sean goh",
      "userId": "10849256875953016575"
     },
     "user_tz": -480
    },
    "id": "IHsx9S2zMqEK",
    "outputId": "13f1cd27-fe1a-4c84-9c32-e7ca868f0c86"
   },
   "outputs": [
    {
     "data": {
      "image/png": "[encoded data removed]",
      "text/plain": [
       "<Figure size 432x288 with 1 Axes>"
      ]
     },
     "metadata": {
      "needs_background": "light"
     },
     "output_type": "display_data"
    }
   ],
   "source": [
    "# Enter code for Question 9 here (MODIFIED - DONE)\n",
    "\n",
    "# get range to plot\n",
    "dim2_max = np.max(dataset[:,1])\n",
    "dim2_min = np.min(dataset[:,1])\n",
    "x = np.linspace(dim2_min, dim2_max, 1001)\n",
    "\n",
    "# sort nweights by dim2 for order\n",
    "nweights = nweights[nweights[:, 1].argsort()]\n",
    "\n",
    "# get center of triangular fmf from nweights and set width\n",
    "b = nweights[:,1]\n",
    "width = 1\n",
    "\n",
    "# plot gaussian FMF\n",
    "fmf_1 = fz.gaussmf(x, [width, b[0]])\n",
    "fmf_2 = fz.gaussmf(x, [width, b[1]])\n",
    "plt.plot(x, fmf_1)\n",
    "plt.plot(x, fmf_2)\n",
    "plt.xlabel('Gaussian FMF for dimension 2')\n",
    "plt.show()\n"
   ]
  },
  {
   "cell_type": "markdown",
   "metadata": {
    "id": "eNjI4iSpMuYR"
   },
   "source": [
    "<font color='red'>Question 10</font>. Add code to modify the triangular membership function in question 8 so that they satisfy coverage, normalized, convex and ordered. Hint: Refer to lecture notes on interpretability of Fuzzy membership functions. <font color='red'>(1 mark)</font>"
   ]
  },
  {
   "cell_type": "code",
   "execution_count": 31,
   "metadata": {
    "ExecuteTime": {
     "end_time": "2022-10-20T06:12:50.184910Z",
     "start_time": "2022-10-20T06:12:50.102183Z"
    },
    "id": "-G2Ahu4ONBma"
   },
   "outputs": [
    {
     "name": "stdout",
     "output_type": "stream",
     "text": [
      "a,b,c of Triangle FMF 1: -3.066004098840619, -2.2646298337787942, -0.5689865555850742\n",
      "a,b,c of Triangle FMF 2: -0.5689865555850742, 1.6385638332355748, 3.3645067637949264\n"
     ]
    },
    {
     "data": {
      "image/png": "[encoded data removed]",
      "text/plain": [
       "<Figure size 432x288 with 1 Axes>"
      ]
     },
     "metadata": {
      "needs_background": "light"
     },
     "output_type": "display_data"
    }
   ],
   "source": [
    "# Enter code for Question 10 here\n",
    "\n",
    "# get range to plot\n",
    "dim1_max = np.max(dataset[:,0])\n",
    "dim1_min = np.min(dataset[:,0])\n",
    "x = np.linspace(dim1_min, dim1_max, 1001)\n",
    "\n",
    "# sort nweights by dim1 for order\n",
    "nweights = nweights[nweights[:, 0].argsort()]\n",
    "\n",
    "# get center of triangular fmf from nweights\n",
    "b = nweights[:,0]\n",
    "\n",
    "# get number of nweights, AKA number of clusters\n",
    "n_fmf = len(nweights)\n",
    "\n",
    "# get the cluster index that the sample belong to, based on euclidean distance from nweights\n",
    "eucl_dist = np.zeros((len(dataset), n_fmf))\n",
    "for i in range(len(dataset)):\n",
    "    for j in range(n_fmf):\n",
    "        eucl_dist[i,j] = np.sqrt(((dataset[i,:] - nweights[j,:])**2).sum())\n",
    "cluster_idx = np.argmin(eucl_dist, axis=1)\n",
    "\n",
    "# initialize a, c, and fmf\n",
    "a = np.zeros(n_fmf)\n",
    "c = np.zeros(n_fmf)\n",
    "fmf = np.zeros((n_fmf,1001))\n",
    "\n",
    "# repeat, for each cluster i,\n",
    "for i in range(n_fmf):\n",
    "    # get index of samples which belong to cluster i\n",
    "    dataset_idx = np.where(cluster_idx==i)\n",
    "    val = np.zeros(len(dataset_idx[0]))\n",
    "    \n",
    "    # get a list of the samples' dim1 values\n",
    "    for j in range(len(dataset_idx[0])):\n",
    "        val[j] = dataset[dataset_idx[0][j],0]\n",
    "    \n",
    "    # set a[i] and c[i] to be the min and max value from the cluster i\n",
    "    a[i] = min(val)\n",
    "    c[i] = max(val)\n",
    "    \n",
    "# adjust a[i!=0] and c[i!=(n_fmf-1)] so that they 'meet' at the bottom of the triangles, to ensure coverage\n",
    "for i in range(n_fmf):\n",
    "    if (i==0):\n",
    "        c[i] = (a[i+1] + c[i]) / 2\n",
    "    elif (i!=(n_fmf-1)):\n",
    "        a[i] = c[i-1]\n",
    "        c[i] = (a[i+1] + c[i]) / 2\n",
    "    else:\n",
    "        a[i] = c[i-1]\n",
    "    print(f'a,b,c of Triangle FMF {i+1}: {a[i]}, {b[i]}, {c[i]}')\n",
    "    fmf[i] = fz.trimf(x, [a[i], b[i], c[i]])\n",
    "    plt.plot(x, fmf[i])\n",
    "\n",
    "plt.xlabel('Triangle FMF for dimension 1')\n",
    "plt.show()\n",
    "\n",
    "# this code should work for variable number of nweights (AKA number of clusters)\n",
    "# and ensures coverage and order"
   ]
  }
 ],
 "metadata": {
  "colab": {
   "collapsed_sections": [
    "CpsdOSzw2y00",
    "C_md3jXE4_P9",
    "R8ZkmL65Pmzw",
    "aluqPBUybBp1",
    "urEwX7xknxWk",
    "JRxtjNXx5t6H",
    "EwdVJs4i2LbM",
    "RJ_D9CZ32LbW",
    "gbjTfTh52Lbg"
   ],
   "provenance": [
    {
     "file_id": "1_igsz-5v7nSreZ3UGawqzAjvY-m_I42B",
     "timestamp": 1664968253259
    },
    {
     "file_id": "1FcUB0kES2CIarfaIyQNIZ_ttI7BfYmeY",
     "timestamp": 1662104520690
    },
    {
     "file_id": "10pGUWuQ7XEGHkp0zXArewzEnyuNBMbzU",
     "timestamp": 1602142772822
    }
   ]
  },
  "kernelspec": {
   "display_name": "Python 3 (ipykernel)",
   "language": "python",
   "name": "python3"
  },
  "language_info": {
   "codemirror_mode": {
    "name": "ipython",
    "version": 3
   },
   "file_extension": ".py",
   "mimetype": "text/x-python",
   "name": "python",
   "nbconvert_exporter": "python",
   "pygments_lexer": "ipython3",
   "version": "3.9.12"
  }
 },
 "nbformat": 4,
 "nbformat_minor": 1
}
