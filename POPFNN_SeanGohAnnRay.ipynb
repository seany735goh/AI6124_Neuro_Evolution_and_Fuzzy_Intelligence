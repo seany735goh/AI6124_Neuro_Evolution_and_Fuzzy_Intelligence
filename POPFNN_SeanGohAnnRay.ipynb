{
 "cells": [
  {
   "cell_type": "markdown",
   "metadata": {
    "id": "O1banL0W_WXT"
   },
   "source": [
    "# 22S1-AI6124 Pseudo Outer-Product Fuzzy Neural Network (POPFNN) Tutorial Assignment 4\n",
    "Created by A/Prof Kai Keng ANG (kkang@i2r.a-star.edu.sg, kkang@ntu.edu.sg). Last modified 5 Oct 2022\n",
    "\n",
    "Submitted by: Sean Goh Ann Ray\n",
    "Mat ID: G2202190G"
   ]
  },
  {
   "cell_type": "markdown",
   "metadata": {
    "id": "a0lMtzp0_sva"
   },
   "source": [
    "## Instructions\n",
    "\n",
    "Enter your name according to NTU Learn, and your student ID above. Do not include the square brackets. Please save the file as POPFNN_[Student name].ipynb and submit in NTU Learn.\n",
    "\n",
    "There are 10 questions in this assignment. Please read the question and hints carefully. "
   ]
  },
  {
   "cell_type": "markdown",
   "metadata": {
    "id": "8PxCWo-0ApHS"
   },
   "source": [
    "## Objective\n",
    "In this tutorial, you will implement derivation of fuzzy if-then rules using Pseudo Outer Product (POP) Learning in POPFNN.\n",
    "\n",
    "After completing this tutorial, you will know:\n",
    "\n",
    "* How to apply what you leaned in the previous tuorial assignment 3 to implement  membership functions\n",
    "* How to implement a function to generate a given number of membership functions that span the input space of the data\n",
    "* How to apply LVQ algorithm in the previous tutorial assignment 4 to generate membership functions from the dataset, and not just the centroids\n",
    "* To to implement and apply POP learning to identify if-then-fuzzy rules using the generated membership functions and the dataset"
   ]
  },
  {
   "cell_type": "markdown",
   "metadata": {
    "id": "gp0oLASX_WXX"
   },
   "source": [
    "# Introduction\n",
    "\n",
    "Before we start, first install and import the necessary libraries."
   ]
  },
  {
   "cell_type": "code",
   "execution_count": 1,
   "metadata": {
    "ExecuteTime": {
     "end_time": "2022-11-03T16:23:05.900830Z",
     "start_time": "2022-11-03T16:23:02.760165Z"
    },
    "colab": {
     "base_uri": "https://localhost:8080/"
    },
    "executionInfo": {
     "elapsed": 3476,
     "status": "ok",
     "timestamp": 1666582085074,
     "user": {
      "displayName": "Sean goh",
      "userId": "10849256875953016575"
     },
     "user_tz": -480
    },
    "id": "_ERfle_d_WXa",
    "outputId": "fde2f941-2814-4bd0-f7a6-665a8cfc26fd"
   },
   "outputs": [
    {
     "name": "stdout",
     "output_type": "stream",
     "text": [
      "Requirement already satisfied: fuzzylab in /Users/sean/opt/anaconda3/lib/python3.9/site-packages (0.13)\r\n"
     ]
    }
   ],
   "source": [
    "!pip install -U fuzzylab\n",
    "import numpy as np\n",
    "import matplotlib.pyplot as plt\n",
    "import sys\n",
    "import fuzzylab as fz\n",
    "from random import randrange\n"
   ]
  },
  {
   "cell_type": "markdown",
   "metadata": {
    "id": "AjVKbXdR_WXc"
   },
   "source": [
    "## 1. Fuzzy Membership Function\n",
    "\n",
    "In this tutorial, we will use the Guassian combination membership function. This function has 2 parameters more than the Gaussian membership function. Both are provided for reference. An evalmf function is also included to call the respective function to evaluate a membership output. "
   ]
  },
  {
   "cell_type": "code",
   "execution_count": 2,
   "metadata": {
    "ExecuteTime": {
     "end_time": "2022-11-03T16:23:05.906863Z",
     "start_time": "2022-11-03T16:23:05.902377Z"
    },
    "executionInfo": {
     "elapsed": 716,
     "status": "ok",
     "timestamp": 1666577183823,
     "user": {
      "displayName": "Sean goh",
      "userId": "10849256875953016575"
     },
     "user_tz": -480
    },
    "id": "k9MbXzhC_WXc"
   },
   "outputs": [],
   "source": [
    "def gaussmf(x, params):    \n",
    "    assert len(params) == 2, 'Gaussmf function must have 2 parameters.'\n",
    "    sig, c = np.asarray(params)\n",
    "    return np.exp(-pow((x - c), 2) / (2 * pow(sig, 2)))\n",
    "\n",
    "def gauss2mf(x, params):\n",
    "    assert len(params) == 4, 'Gauss2mf function must have 4 parameters.'\n",
    "    sig1, c1, sig2, c2 = np.asarray(params)\n",
    "    assert c1 <= c2, 'c1 <= c2 is required.'\n",
    "    if np.isscalar(x):\n",
    "        if x<=c1:\n",
    "            y=gaussmf(x, [sig1, c1])\n",
    "        else:\n",
    "            y=gaussmf(x,[sig2, c2])\n",
    "    else:\n",
    "        y = np.ones(len(x))\n",
    "        idx1 = (x <= c1)\n",
    "        idx2 = (x > c2)\n",
    "        y[idx1] = gaussmf(x[idx1], [sig1, c1])\n",
    "        y[idx2] = gaussmf(x[idx2], [sig2, c2])\n",
    "    return y\n",
    "\n",
    "# This function overwrites the evalmf function of the fuzzy logic toolbox by looking for the function name defined by\n",
    "# mf.Type and calling it directly.\n",
    "def evalmf(mf, x):\n",
    "    possibles = globals().copy()\n",
    "    possibles.update(locals())\n",
    "    method = possibles.get(mf.Type)\n",
    "    return method(x, mf.Parameters)"
   ]
  },
  {
   "cell_type": "markdown",
   "metadata": {
    "id": "fZLzVz8n_WXd"
   },
   "source": [
    "## 2. Fuzzy Membership Function class\n",
    "\n",
    "Next we create a Fuzzy Membership function class to store the Fuzzy Membership function created, and a POPFNN class to store the input, output and fuzzy rules created."
   ]
  },
  {
   "cell_type": "code",
   "execution_count": 3,
   "metadata": {
    "ExecuteTime": {
     "end_time": "2022-11-03T16:23:05.919237Z",
     "start_time": "2022-11-03T16:23:05.908509Z"
    },
    "executionInfo": {
     "elapsed": 448,
     "status": "ok",
     "timestamp": 1666577257053,
     "user": {
      "displayName": "Sean goh",
      "userId": "10849256875953016575"
     },
     "user_tz": -480
    },
    "id": "gnDrL4hT_WXe"
   },
   "outputs": [],
   "source": [
    "class fuzzymf(object):\n",
    "    def __init__(self, Type, Parameters):\n",
    "        self.Type = Type\n",
    "        self.Parameters = Parameters\n",
    "    def __repr__(self):\n",
    "            return 'fismf, '\\\n",
    "                ' Type: %s, '\\\n",
    "                ' Parameters: %s\\n'\\\n",
    "                % (self.Type,self.Parameters)\n",
    "\n",
    "class popfnn(object):\n",
    "    In_mf:fuzzymf\n",
    "    Out_mf:fuzzymf\n",
    "    N_inputs:int\n",
    "    N_outlabels:int\n",
    "    Lut_m:np\n",
    "    Lut_d:np\n",
    "    N_rules:int\n",
    "    Pweights:np\n",
    "\n",
    "    def __init__(self, In_mf, Out_mf):\n",
    "        self.In_mf = In_mf\n",
    "        self.Out_mf = Out_mf\n",
    "\n",
    "        self.N_inputs=len(self.In_mf) # no. of features\n",
    "        self.N_outlabels=len(self.Out_mf[0]) # no. of membership functions of label\n",
    "        self.Lut_m=np.empty(self.N_inputs, np.int8)\n",
    "        self.Lut_d=np.empty(self.N_inputs, np.int8)       \n",
    "       \n",
    "        # Calculate lookup tables for rule access\n",
    "        self.N_rules = 1\n",
    "        for i in range(self.N_inputs):\n",
    "            self.Lut_m[i] = len(self.In_mf[i]) # no. of membership functions in feature i\n",
    "            self.Lut_d[i] = 1\n",
    "            self.N_rules = self.N_rules * self.Lut_m[0] # no. of rules = (no. of membership functions)**(no. of features)\n",
    "            for j in range(i):\n",
    "                self.Lut_d[j] = self.Lut_d[j] * self.Lut_m[j]\n",
    "        \n",
    "        # Initialize pseudo weights for all rules\n",
    "        self.pweights = np.zeros([self.N_rules,self.N_outlabels])\n",
    "        self.consequent = []\n",
    "\n",
    "    # returns the membership label given rule number and the ninput\n",
    "    def getlabel(self, rule, ninput):\n",
    "        return (int((int(rule)/(self.Lut_d[ninput]))%self.Lut_m[ninput]));\n",
    "\n",
    "    # prints all the rules\n",
    "    def printruleslabels(self):\n",
    "        print('N_inputs=',self.N_inputs)\n",
    "        print('N_rules=',self.N_rules)\n",
    "        print('N_output_mf=',self.N_outlabels)\n",
    "        if len(self.consequent) < 1:\n",
    "            print('rule_number, labels, pweights')\n",
    "            for i in range(self.N_rules): # for each rule\n",
    "                print(i,end = ' ')\n",
    "                for j in range(self.N_inputs): # for each feature\n",
    "                    print(self.getlabel(i,j),end = ' ')\n",
    "                for j in range(self.N_outlabels): # for each linguistic label\n",
    "                    print(self.pweights[i][j],end = ' ')\n",
    "                print('')\n",
    "        else:\n",
    "            print('rule_number, labels, pweights, consequent label')\n",
    "            for i in range(self.N_rules): # for each rule\n",
    "                print(i,end = ' ')\n",
    "                for j in range(self.N_inputs): # for each feature\n",
    "                    print(self.getlabel(i,j),end = ' ')\n",
    "                for j in range(self.N_outlabels): # for each linguistic label\n",
    "                    print(self.pweights[i][j],end = ' ')\n",
    "                print(self.consequent_label[i])\n",
    "            \n",
    "    def poplearn(self, x, y):\n",
    "        '''\n",
    "        x: one data sample with 2 features (1 by 2 matrix)\n",
    "        y: label of data sample\n",
    "        '''\n",
    "        for r in range(self.N_rules): # for each rule\n",
    "            min_t=1.0\n",
    "            for i in range(self.N_inputs): # for each feature\n",
    "                # Get the label of input i for rule r\n",
    "                label=self.getlabel(r,i)\n",
    "                # Compute membership of input i\n",
    "                t=evalmf(self.In_mf[i][label],x[i])\n",
    "                # Compute min across all input membership functions\n",
    "                min_t=min(min_t,t)\n",
    "            for i in range(self.N_outlabels): # for each linguistic label (AKA output membership function)\n",
    "                t=evalmf(self.Out_mf[0][i],y)\n",
    "                self.pweights[r][i]+=min_t*t\n",
    "                \n",
    "    #Enter code for question 8 here\n",
    "    def identify_rules(self):\n",
    "        self.consequent = np.max(self.pweights, axis=1)\n",
    "        self.consequent_label = np.argmax(self.pweights, axis=1)\n",
    "        self.consequent_label = self.consequent_label + 1\n",
    "        return self.pweights\n",
    "    "
   ]
  },
  {
   "cell_type": "markdown",
   "metadata": {
    "id": "9ZipU55h_WXf"
   },
   "source": [
    "## 3. Learning Fuzzy Membership function by spanning the input space\n",
    "\n",
    "Next we crate a simple function to generate a given number of membership functions that span the input space of the data."
   ]
  },
  {
   "cell_type": "code",
   "execution_count": 4,
   "metadata": {
    "ExecuteTime": {
     "end_time": "2022-11-03T16:23:05.925572Z",
     "start_time": "2022-11-03T16:23:05.921352Z"
    },
    "executionInfo": {
     "elapsed": 620,
     "status": "ok",
     "timestamp": 1666577298518,
     "user": {
      "displayName": "Sean goh",
      "userId": "10849256875953016575"
     },
     "user_tz": -480
    },
    "id": "Z4Y2Jq54_WXg"
   },
   "outputs": [],
   "source": [
    "# This function creates nlabels number of gauss2mf that spans min and max of the inputs\n",
    "def span_learnmem(x, params):\n",
    "\n",
    "    assert len(params) == 2, 'spam_learnmem function must have 2 parameters.'\n",
    "    nlabels, width = np.asarray(params)\n",
    "    nlabels=int(nlabels)\n",
    "\n",
    "    # First get the max and min of each dimension\n",
    "    maxx=np.amax(x, axis=0)\n",
    "    minx=np.amin(x, axis=0)    \n",
    "    \n",
    "    if x.ndim==1:\n",
    "        ninputs=1\n",
    "    else:\n",
    "        ninputs=np.size(x,1)\n",
    "    \n",
    "    fis=[]\n",
    "    for i in range(ninputs):\n",
    "        if ninputs==1:\n",
    "            centroids=np.linspace(minx,maxx,int(nlabels))\n",
    "        else:\n",
    "            centroids=np.linspace(minx[i],maxx[i],int(nlabels))\n",
    "        sig=(centroids[1]-centroids[0])*width        \n",
    "        mf=[]\n",
    "        for j in range(nlabels):\n",
    "            mf.append(fuzzymf(Type = 'gauss2mf', Parameters = [sig, centroids[j], sig, centroids[j]]))\n",
    "        fis.append(mf)  \n",
    "    return fis\n"
   ]
  },
  {
   "cell_type": "markdown",
   "metadata": {
    "id": "iVPF7OQ7_WXh"
   },
   "source": [
    "## 4. Generate Training dataset\n",
    "\n",
    "Now we generate a dataset to train the Neuro Fuzzy System."
   ]
  },
  {
   "cell_type": "code",
   "execution_count": 5,
   "metadata": {
    "ExecuteTime": {
     "end_time": "2022-11-03T16:23:06.170898Z",
     "start_time": "2022-11-03T16:23:05.926764Z"
    },
    "colab": {
     "base_uri": "https://localhost:8080/",
     "height": 298
    },
    "executionInfo": {
     "elapsed": 1183,
     "status": "ok",
     "timestamp": 1666577305510,
     "user": {
      "displayName": "Sean goh",
      "userId": "10849256875953016575"
     },
     "user_tz": -480
    },
    "id": "4DWtTIzf_WXh",
    "outputId": "d489985d-e4df-45d8-fd31-8038db79538d"
   },
   "outputs": [
    {
     "data": {
      "text/plain": [
       "Text(0, 0.5, '$x_2$')"
      ]
     },
     "execution_count": 5,
     "metadata": {},
     "output_type": "execute_result"
    },
    {
     "data": {
      "image/png": "[encoded data removed]",
      "text/plain": [
       "<Figure size 432x288 with 1 Axes>"
      ]
     },
     "metadata": {
      "needs_background": "light"
     },
     "output_type": "display_data"
    }
   ],
   "source": [
    "dataset = np.random.randn(100,2)\n",
    "dataset[0:50]+=(+2)\n",
    "dataset[50:100]+=(-2)\n",
    "labels=np.array([1]*50)\n",
    "labels=np.append(labels,[2]*50)\n",
    "#labels=labels.transpose()\n",
    "plt.scatter(dataset[labels==1,0], dataset[labels==1,1])\n",
    "plt.scatter(dataset[labels==2,0], dataset[labels==2,1])\n",
    "plt.legend(['y=1','y=2'])\n",
    "plt.xlabel('$x_1$')\n",
    "plt.ylabel('$x_2$')"
   ]
  },
  {
   "cell_type": "markdown",
   "metadata": {
    "id": "4XbMpWPi_WXi"
   },
   "source": [
    "## 5. Train the fuzzy membership functions (ALMOST DONE, left Qn7)\n",
    "\n",
    "Now we begin to train the fuzzy membership functions. After POPFNN initializes the rule space based on the input and output membership functions. The function printrulelabels prints out all the rules, the membership function labels for each input, and the pseudo weights of each rule."
   ]
  },
  {
   "cell_type": "code",
   "execution_count": 6,
   "metadata": {
    "ExecuteTime": {
     "end_time": "2022-11-03T16:23:06.176873Z",
     "start_time": "2022-11-03T16:23:06.172603Z"
    },
    "colab": {
     "base_uri": "https://localhost:8080/"
    },
    "executionInfo": {
     "elapsed": 433,
     "status": "ok",
     "timestamp": 1666577541313,
     "user": {
      "displayName": "Sean goh",
      "userId": "10849256875953016575"
     },
     "user_tz": -480
    },
    "id": "eGBMOVgb_WXi",
    "outputId": "a0d68029-2108-4c76-b751-59486ab9cb08"
   },
   "outputs": [
    {
     "name": "stdout",
     "output_type": "stream",
     "text": [
      "N_inputs= 2\n",
      "N_rules= 4\n",
      "N_output_mf= 2\n",
      "rule_number, labels, pweights\n",
      "0 0 0 0.0 0.0 \n",
      "1 0 1 0.0 0.0 \n",
      "2 1 0 0.0 0.0 \n",
      "3 1 1 0.0 0.0 \n"
     ]
    }
   ],
   "source": [
    "inmf = span_learnmem(dataset, [2.0, 0.5])\n",
    "outmf = span_learnmem(labels, [2.0, 0.5])\n",
    "nf=popfnn(In_mf=inmf, Out_mf=outmf)\n",
    "nf.printruleslabels()"
   ]
  },
  {
   "cell_type": "markdown",
   "metadata": {
    "id": "V3JvfEVY_WXi"
   },
   "source": [
    "<font color=red>Question 1</font>: How many rules are initialized in the above code? <font color='red'>(1 mark)</font>"
   ]
  },
  {
   "cell_type": "markdown",
   "metadata": {
    "id": "vh5SOydn_WXj"
   },
   "source": [
    "4"
   ]
  },
  {
   "cell_type": "markdown",
   "metadata": {
    "id": "wv912a_1_WXj"
   },
   "source": [
    "<font color=red>Question 2</font>: How many rules are generated if you change span_learnmem to generate 4 membership functions instead of 2? <font color='red'>(1 mark)</font>"
   ]
  },
  {
   "cell_type": "code",
   "execution_count": 7,
   "metadata": {
    "ExecuteTime": {
     "end_time": "2022-11-03T16:23:06.183581Z",
     "start_time": "2022-11-03T16:23:06.178517Z"
    },
    "colab": {
     "base_uri": "https://localhost:8080/"
    },
    "executionInfo": {
     "elapsed": 10,
     "status": "ok",
     "timestamp": 1666578354607,
     "user": {
      "displayName": "Sean goh",
      "userId": "10849256875953016575"
     },
     "user_tz": -480
    },
    "id": "jqXsLFZG_WXj",
    "outputId": "65ae423a-56ea-4ba1-b72f-99895b80d942"
   },
   "outputs": [
    {
     "name": "stdout",
     "output_type": "stream",
     "text": [
      "N_inputs= 2\n",
      "N_rules= 16\n",
      "N_output_mf= 4\n",
      "rule_number, labels, pweights\n",
      "0 0 0 0.0 0.0 0.0 0.0 \n",
      "1 0 1 0.0 0.0 0.0 0.0 \n",
      "2 0 2 0.0 0.0 0.0 0.0 \n",
      "3 0 3 0.0 0.0 0.0 0.0 \n",
      "4 1 0 0.0 0.0 0.0 0.0 \n",
      "5 1 1 0.0 0.0 0.0 0.0 \n",
      "6 1 2 0.0 0.0 0.0 0.0 \n",
      "7 1 3 0.0 0.0 0.0 0.0 \n",
      "8 2 0 0.0 0.0 0.0 0.0 \n",
      "9 2 1 0.0 0.0 0.0 0.0 \n",
      "10 2 2 0.0 0.0 0.0 0.0 \n",
      "11 2 3 0.0 0.0 0.0 0.0 \n",
      "12 3 0 0.0 0.0 0.0 0.0 \n",
      "13 3 1 0.0 0.0 0.0 0.0 \n",
      "14 3 2 0.0 0.0 0.0 0.0 \n",
      "15 3 3 0.0 0.0 0.0 0.0 \n"
     ]
    }
   ],
   "source": [
    "# Modify code for question 2 here (DONE)\n",
    "inmf2 = span_learnmem(dataset, [4.0, 0.5])\n",
    "outmf2 = span_learnmem(labels, [4.0, 0.5])\n",
    "nf2=popfnn(In_mf=inmf2, Out_mf=outmf2)\n",
    "nf2.printruleslabels()"
   ]
  },
  {
   "cell_type": "markdown",
   "metadata": {
    "id": "hrK-VtUM_WXj"
   },
   "source": [
    "16"
   ]
  },
  {
   "cell_type": "code",
   "execution_count": 8,
   "metadata": {
    "ExecuteTime": {
     "end_time": "2022-11-03T16:23:06.307384Z",
     "start_time": "2022-11-03T16:23:06.184924Z"
    },
    "colab": {
     "base_uri": "https://localhost:8080/",
     "height": 316
    },
    "executionInfo": {
     "elapsed": 433,
     "status": "ok",
     "timestamp": 1666577905059,
     "user": {
      "displayName": "Sean goh",
      "userId": "10849256875953016575"
     },
     "user_tz": -480
    },
    "id": "yB6lDqvI_WXj",
    "outputId": "b37385bf-3f42-498b-b446-0e86d41c9ccb"
   },
   "outputs": [
    {
     "data": {
      "text/plain": [
       "Text(0.5, 1.0, 'Membership Functions for Input $x_1$')"
      ]
     },
     "execution_count": 8,
     "metadata": {},
     "output_type": "execute_result"
    },
    {
     "data": {
      "image/png": "[encoded data removed]",
      "text/plain": [
       "<Figure size 432x288 with 1 Axes>"
      ]
     },
     "metadata": {
      "needs_background": "light"
     },
     "output_type": "display_data"
    }
   ],
   "source": [
    "x = np.linspace(-10, 10, 101)\n",
    "plt.plot(x, evalmf(inmf[0][0], x))\n",
    "plt.plot(x, evalmf(inmf[0][1], x))\n",
    "plt.xlabel('$x_1$')\n",
    "plt.ylabel('$\\mu(x_1)$')\n",
    "plt.title('Membership Functions for Input $x_1$')"
   ]
  },
  {
   "cell_type": "code",
   "execution_count": 9,
   "metadata": {
    "ExecuteTime": {
     "end_time": "2022-11-03T16:23:06.405793Z",
     "start_time": "2022-11-03T16:23:06.308827Z"
    },
    "colab": {
     "base_uri": "https://localhost:8080/",
     "height": 316
    },
    "executionInfo": {
     "elapsed": 495,
     "status": "ok",
     "timestamp": 1666578445218,
     "user": {
      "displayName": "Sean goh",
      "userId": "10849256875953016575"
     },
     "user_tz": -480
    },
    "id": "b8S-J6mS_WXk",
    "outputId": "6628bbd9-e1d3-45d2-f01e-2790b3e730a4"
   },
   "outputs": [
    {
     "data": {
      "text/plain": [
       "Text(0.5, 1.0, 'Membership Functions for Input $x_2$')"
      ]
     },
     "execution_count": 9,
     "metadata": {},
     "output_type": "execute_result"
    },
    {
     "data": {
      "image/png": "[encoded data removed]",
      "text/plain": [
       "<Figure size 432x288 with 1 Axes>"
      ]
     },
     "metadata": {
      "needs_background": "light"
     },
     "output_type": "display_data"
    }
   ],
   "source": [
    "plt.plot(x, evalmf(inmf[1][0], x))\n",
    "plt.plot(x, evalmf(inmf[1][1], x))\n",
    "plt.xlabel('$x_2$')\n",
    "plt.ylabel('$\\mu(x_2)$')\n",
    "plt.title('Membership Functions for Input $x_2$')"
   ]
  },
  {
   "cell_type": "code",
   "execution_count": 10,
   "metadata": {
    "ExecuteTime": {
     "end_time": "2022-11-03T16:23:06.482481Z",
     "start_time": "2022-11-03T16:23:06.409687Z"
    },
    "colab": {
     "base_uri": "https://localhost:8080/",
     "height": 316
    },
    "executionInfo": {
     "elapsed": 423,
     "status": "ok",
     "timestamp": 1666578469696,
     "user": {
      "displayName": "Sean goh",
      "userId": "10849256875953016575"
     },
     "user_tz": -480
    },
    "id": "GfCIWQwL_WXk",
    "outputId": "61bb6bac-6bbd-4d2e-c153-b2edd5e7ebb3"
   },
   "outputs": [
    {
     "data": {
      "text/plain": [
       "Text(0.5, 1.0, 'Membership Functions for Output $y_1$')"
      ]
     },
     "execution_count": 10,
     "metadata": {},
     "output_type": "execute_result"
    },
    {
     "data": {
      "image/png": "[encoded data removed]",
      "text/plain": [
       "<Figure size 432x288 with 1 Axes>"
      ]
     },
     "metadata": {
      "needs_background": "light"
     },
     "output_type": "display_data"
    }
   ],
   "source": [
    "y = np.linspace(-1, 4, 101)\n",
    "plt.plot(y, evalmf(outmf[0][0], y))\n",
    "plt.plot(y, evalmf(outmf[0][1], y))\n",
    "plt.xlabel('$y_1$')\n",
    "plt.ylabel('$\\mu(y)$')\n",
    "plt.title('Membership Functions for Output $y_1$')"
   ]
  },
  {
   "cell_type": "markdown",
   "metadata": {
    "id": "9Ifdl_3l_WXl"
   },
   "source": [
    "<font color=red>Question 3</font>: Modify the span_learnmem to include a parameter tail. If parameter is true, one end of the left most and right most membership function will yield 1, but not the middle of the membership function. Hint: Change one of the parameters. Another hint, the value is one from the sys module. <font color='red'>(1 mark)</font>"
   ]
  },
  {
   "cell_type": "code",
   "execution_count": 11,
   "metadata": {
    "ExecuteTime": {
     "end_time": "2022-11-03T16:23:06.489827Z",
     "start_time": "2022-11-03T16:23:06.484089Z"
    },
    "executionInfo": {
     "elapsed": 6,
     "status": "ok",
     "timestamp": 1666582085387,
     "user": {
      "displayName": "Sean goh",
      "userId": "10849256875953016575"
     },
     "user_tz": -480
    },
    "id": "VlM2pP6T_WXl"
   },
   "outputs": [],
   "source": [
    "# Modify the below code here for Question 3. (DONE)\n",
    "def span_learnmem1(x, params):\n",
    "\n",
    "    assert len(params) == 3, 'spam_learnmem1 function must have 3 parameters.'\n",
    "    nlabels, width, tail = np.asarray(params)\n",
    "    nlabels=int(nlabels)\n",
    "    tail=bool(tail)\n",
    "\n",
    "    # First get the max and min of each dimension\n",
    "    maxx=np.amax(x, axis=0)\n",
    "    minx=np.amin(x, axis=0)    \n",
    "    \n",
    "    if x.ndim==1:\n",
    "        ninputs=1\n",
    "    else:\n",
    "        ninputs=np.size(x,1)\n",
    "    \n",
    "    fis=[]\n",
    "    for i in range(ninputs):\n",
    "        if ninputs==1:\n",
    "            centroids=np.linspace(minx,maxx,int(nlabels))\n",
    "        else:\n",
    "            centroids=np.linspace(minx[i],maxx[i],int(nlabels))\n",
    "        sig=(centroids[1]-centroids[0])*width        \n",
    "        mf=[]\n",
    "        if tail==False:\n",
    "            for j in range(nlabels):\n",
    "                mf.append(fuzzymf(Type = 'gauss2mf', Parameters = [sig, centroids[j], sig, centroids[j]]))\n",
    "        else:\n",
    "            for j in range(nlabels):\n",
    "                if j==0:\n",
    "                    mf.append(fuzzymf(Type = 'gauss2mf', Parameters = [sig, -sys.hash_info.inf, sig, centroids[j]]))\n",
    "                elif j!=(nlabels-1):\n",
    "                    mf.append(fuzzymf(Type = 'gauss2mf', Parameters = [sig, centroids[j], sig, centroids[j]]))\n",
    "                else:\n",
    "                    mf.append(fuzzymf(Type = 'gauss2mf', Parameters = [sig, centroids[j], sig, sys.hash_info.inf]))\n",
    "        fis.append(mf)  \n",
    "    return fis # matrix with size (no. of features) by (no. of membership functions)\n"
   ]
  },
  {
   "cell_type": "markdown",
   "metadata": {
    "id": "Vxhruvfa_WXm"
   },
   "source": [
    "<font color=red>Question 4</font>: Use the above modified span_learnmem and plot nlabels=3 membership functions with tail=true for $x_1$ <font color='red'>(1 mark)</font>"
   ]
  },
  {
   "cell_type": "code",
   "execution_count": 12,
   "metadata": {
    "ExecuteTime": {
     "end_time": "2022-11-03T16:23:06.606630Z",
     "start_time": "2022-11-03T16:23:06.491639Z"
    },
    "colab": {
     "base_uri": "https://localhost:8080/",
     "height": 537
    },
    "executionInfo": {
     "elapsed": 777,
     "status": "ok",
     "timestamp": 1666582592198,
     "user": {
      "displayName": "Sean goh",
      "userId": "10849256875953016575"
     },
     "user_tz": -480
    },
    "id": "mb6pK_Uh_WXm",
    "outputId": "38ee44f4-881a-4c01-ae6f-a4005b313901"
   },
   "outputs": [
    {
     "name": "stdout",
     "output_type": "stream",
     "text": [
      "N_inputs= 2\n",
      "N_rules= 9\n",
      "N_output_mf= 3\n",
      "rule_number, labels, pweights\n",
      "0 0 0 0.0 0.0 0.0 \n",
      "1 0 1 0.0 0.0 0.0 \n",
      "2 0 2 0.0 0.0 0.0 \n",
      "3 1 0 0.0 0.0 0.0 \n",
      "4 1 1 0.0 0.0 0.0 \n",
      "5 1 2 0.0 0.0 0.0 \n",
      "6 2 0 0.0 0.0 0.0 \n",
      "7 2 1 0.0 0.0 0.0 \n",
      "8 2 2 0.0 0.0 0.0 \n"
     ]
    },
    {
     "data": {
      "text/plain": [
       "Text(0.5, 1.0, 'Membership Functions for Input $x_1$')"
      ]
     },
     "execution_count": 12,
     "metadata": {},
     "output_type": "execute_result"
    },
    {
     "data": {
      "image/png": "[encoded data removed]",
      "text/plain": [
       "<Figure size 432x288 with 1 Axes>"
      ]
     },
     "metadata": {
      "needs_background": "light"
     },
     "output_type": "display_data"
    }
   ],
   "source": [
    "# Enter code here for Question 4. (DONE)\n",
    "\n",
    "inmf3 = span_learnmem1(dataset, [3.0, 0.5, True])\n",
    "outmf3 = span_learnmem1(labels, [3.0, 0.5, True])\n",
    "nf3=popfnn(In_mf=inmf3, Out_mf=outmf3)\n",
    "nf3.printruleslabels()\n",
    "\n",
    "x = np.linspace(-10, 10, 101)\n",
    "plt.plot(x, evalmf(inmf3[0][0], x))\n",
    "plt.plot(x, evalmf(inmf3[0][1], x))\n",
    "plt.plot(x, evalmf(inmf3[0][2], x))\n",
    "plt.xlabel('$x_1$')\n",
    "plt.ylabel('$\\mu(x_1)$')\n",
    "plt.title('Membership Functions for Input $x_1$')"
   ]
  },
  {
   "cell_type": "markdown",
   "metadata": {
    "id": "eNfUykxJ_WXm"
   },
   "source": [
    "<font color=red>Question 5</font>: Now modify span_learnmem to delete the width parameter and automatically compute the width such that the membership functions intersect at value $\\mu=0.5$ in the middle of the centroid. Retain the tail parameter. <font color='red'>(1 mark)</font>"
   ]
  },
  {
   "cell_type": "code",
   "execution_count": 13,
   "metadata": {
    "ExecuteTime": {
     "end_time": "2022-11-03T16:23:06.614357Z",
     "start_time": "2022-11-03T16:23:06.608361Z"
    },
    "executionInfo": {
     "elapsed": 408,
     "status": "ok",
     "timestamp": 1666583791968,
     "user": {
      "displayName": "Sean goh",
      "userId": "10849256875953016575"
     },
     "user_tz": -480
    },
    "id": "1d6ZKPmf_WXm"
   },
   "outputs": [],
   "source": [
    "# This function creates nlabels number of gauss2mf that spans min and max of the inputs (DONE)\n",
    "def span_learnmem2(x, params):\n",
    "\n",
    "    assert len(params) == 2, 'spam_learnmem function must have 2 parameters.'\n",
    "    nlabels, tail = np.asarray(params)\n",
    "    nlabels=int(nlabels)\n",
    "    tail=bool(tail)\n",
    "\n",
    "    # First get the max and min of each dimension\n",
    "    maxx=np.amax(x, axis=0)\n",
    "    minx=np.amin(x, axis=0)    \n",
    "    \n",
    "    print('x.ndim = ', x.ndim)\n",
    "    if x.ndim==1:\n",
    "        ninputs=1\n",
    "    else:\n",
    "        ninputs=np.size(x,1)\n",
    "    \n",
    "    fis=[]\n",
    "    for i in range(ninputs):\n",
    "        if ninputs==1:\n",
    "            centroids=np.linspace(minx,maxx,int(nlabels))\n",
    "            print(f'centroids of dim {i+1} = {centroids}')\n",
    "        else:\n",
    "            centroids=np.linspace(minx[i],maxx[i],int(nlabels))\n",
    "            print(f'centroids of dim {i+1} = {centroids}')\n",
    "        \n",
    "        sig=(centroids[1]-centroids[0])*0.5 / np.sqrt(-2*np.log(0.5))\n",
    "\n",
    "        mf=[]\n",
    "        if tail==False:\n",
    "            for j in range(nlabels):\n",
    "                mf.append(fuzzymf(Type = 'gauss2mf', Parameters = [sig, centroids[j], sig, centroids[j]]))\n",
    "        else:\n",
    "            for j in range(nlabels):\n",
    "                if j==0:\n",
    "                    mf.append(fuzzymf(Type = 'gauss2mf', Parameters = [sig, -sys.hash_info.inf, sig, centroids[j]]))\n",
    "                elif j!=(nlabels-1):\n",
    "                    mf.append(fuzzymf(Type = 'gauss2mf', Parameters = [sig, centroids[j], sig, centroids[j]]))\n",
    "                else:\n",
    "                    mf.append(fuzzymf(Type = 'gauss2mf', Parameters = [sig, centroids[j], sig, sys.hash_info.inf]))\n",
    "        fis.append(mf)\n",
    "    print('')\n",
    "    return fis"
   ]
  },
  {
   "cell_type": "markdown",
   "metadata": {
    "id": "zgSdnbef_WXn"
   },
   "source": [
    "<font color=red>Question 6</font>: Use the above modified span_learnmem and plot nlabels=4 membership functions with tail=true for $x_2$ <font color='red'>(1 mark)</font>"
   ]
  },
  {
   "cell_type": "code",
   "execution_count": 14,
   "metadata": {
    "ExecuteTime": {
     "end_time": "2022-11-03T16:23:06.734481Z",
     "start_time": "2022-11-03T16:23:06.615681Z"
    },
    "colab": {
     "base_uri": "https://localhost:8080/",
     "height": 656
    },
    "executionInfo": {
     "elapsed": 642,
     "status": "ok",
     "timestamp": 1666584060836,
     "user": {
      "displayName": "Sean goh",
      "userId": "10849256875953016575"
     },
     "user_tz": -480
    },
    "id": "3-qsMHci_WXn",
    "outputId": "d6bf5ca2-8280-44ee-a1bd-fc2950f4c88b"
   },
   "outputs": [
    {
     "name": "stdout",
     "output_type": "stream",
     "text": [
      "x.ndim =  2\n",
      "centroids of dim 1 = [-4.17651556 -1.53869894  1.09911769  3.73693431]\n",
      "centroids of dim 2 = [-3.70352194 -1.06970907  1.5641038   4.19791667]\n",
      "\n",
      "x.ndim =  1\n",
      "centroids of dim 1 = [1.         1.33333333 1.66666667 2.        ]\n",
      "\n",
      "N_inputs= 2\n",
      "N_rules= 16\n",
      "N_output_mf= 4\n",
      "rule_number, labels, pweights\n",
      "0 0 0 0.0 0.0 0.0 0.0 \n",
      "1 0 1 0.0 0.0 0.0 0.0 \n",
      "2 0 2 0.0 0.0 0.0 0.0 \n",
      "3 0 3 0.0 0.0 0.0 0.0 \n",
      "4 1 0 0.0 0.0 0.0 0.0 \n",
      "5 1 1 0.0 0.0 0.0 0.0 \n",
      "6 1 2 0.0 0.0 0.0 0.0 \n",
      "7 1 3 0.0 0.0 0.0 0.0 \n",
      "8 2 0 0.0 0.0 0.0 0.0 \n",
      "9 2 1 0.0 0.0 0.0 0.0 \n",
      "10 2 2 0.0 0.0 0.0 0.0 \n",
      "11 2 3 0.0 0.0 0.0 0.0 \n",
      "12 3 0 0.0 0.0 0.0 0.0 \n",
      "13 3 1 0.0 0.0 0.0 0.0 \n",
      "14 3 2 0.0 0.0 0.0 0.0 \n",
      "15 3 3 0.0 0.0 0.0 0.0 \n"
     ]
    },
    {
     "data": {
      "text/plain": [
       "Text(0.5, 1.0, 'Membership Functions for Input $x_2$')"
      ]
     },
     "execution_count": 14,
     "metadata": {},
     "output_type": "execute_result"
    },
    {
     "data": {
      "image/png": "[encoded data removed]",
      "text/plain": [
       "<Figure size 432x288 with 1 Axes>"
      ]
     },
     "metadata": {
      "needs_background": "light"
     },
     "output_type": "display_data"
    }
   ],
   "source": [
    "# Enter code here for Question 6. (DONE)\n",
    "\n",
    "inmf4 = span_learnmem2(dataset, [4.0, True])\n",
    "outmf4 = span_learnmem2(labels, [4.0, True])\n",
    "nf4=popfnn(In_mf=inmf4, Out_mf=outmf4)\n",
    "nf4.printruleslabels()\n",
    "\n",
    "x = np.linspace(-10, 10, 101)\n",
    "for i in range(len(inmf4[1])):\n",
    "    plt.plot(x, evalmf(inmf4[1][i], x))\n",
    "plt.xlabel('$x_1$')\n",
    "plt.ylabel('$\\mu(x_1)$')\n",
    "plt.title('Membership Functions for Input $x_2$')"
   ]
  },
  {
   "cell_type": "markdown",
   "metadata": {
    "id": "slGvG8g-_WXn"
   },
   "source": [
    "<font color=red>Question 7</font>: Now create a new LVQ_learnmem with nlabels and tail parameters. Then plot nlabels=2 membership functions with tail=true for $x_1$. Refer to code from previous tutorial. <font color='red'>(1 mark)</font>"
   ]
  },
  {
   "cell_type": "code",
   "execution_count": 15,
   "metadata": {
    "ExecuteTime": {
     "end_time": "2022-11-03T16:23:07.073087Z",
     "start_time": "2022-11-03T16:23:06.736403Z"
    },
    "id": "43LdMh-O_WXo"
   },
   "outputs": [
    {
     "name": "stdout",
     "output_type": "stream",
     "text": [
      "Random initial centroids: \n",
      " [[-2.66552926 -1.92605386]\n",
      " [ 2.48810345  0.48814318]]\n",
      ">epoch=5, lrate=0.736, error=138.835\n",
      ">epoch=10, lrate=0.656, error=135.172\n",
      ">epoch=15, lrate=0.576, error=131.921\n",
      ">epoch=20, lrate=0.496, error=129.126\n",
      ">epoch=25, lrate=0.416, error=126.844\n",
      ">epoch=30, lrate=0.336, error=125.231\n",
      ">epoch=35, lrate=0.256, error=124.085\n",
      ">epoch=40, lrate=0.176, error=122.518\n",
      ">epoch=45, lrate=0.096, error=119.956\n",
      ">epoch=50, lrate=0.016, error=117.248\n",
      "Final centroids (ordered by dimension 1): \n",
      " [[-1.90182733 -2.05966271]\n",
      " [ 2.04957419  1.88813413]] \n",
      "\n",
      "ninputs = 2\n",
      "centroids of dim 1 = [-1.90182733  2.04957419]\n",
      "centroids of dim 2 = [-2.05966271  1.88813413]\n",
      "\n",
      "ninputs = 1\n",
      "centroids of dim 1 = [1. 2.]\n",
      "\n",
      "N_inputs= 2\n",
      "N_rules= 4\n",
      "N_output_mf= 2\n",
      "rule_number, labels, pweights\n",
      "0 0 0 0.0 0.0 \n",
      "1 0 1 0.0 0.0 \n",
      "2 1 0 0.0 0.0 \n",
      "3 1 1 0.0 0.0 \n"
     ]
    },
    {
     "data": {
      "text/plain": [
       "Text(0.5, 1.0, 'Membership Functions for Output $y_1$')"
      ]
     },
     "execution_count": 15,
     "metadata": {},
     "output_type": "execute_result"
    },
    {
     "data": {
      "image/png": "[encoded data removed]",
      "text/plain": [
       "<Figure size 432x288 with 1 Axes>"
      ]
     },
     "metadata": {
      "needs_background": "light"
     },
     "output_type": "display_data"
    },
    {
     "data": {
      "image/png": "[encoded data removed]",
      "text/plain": [
       "<Figure size 432x288 with 1 Axes>"
      ]
     },
     "metadata": {
      "needs_background": "light"
     },
     "output_type": "display_data"
    }
   ],
   "source": [
    "# Enter code here for Question 7. (DONE)\n",
    "\n",
    "# Assign a random codebook vector from the training data\n",
    "def random_weight(traindata):\n",
    "    n_records = len(traindata)   \n",
    "    weight = traindata[randrange(n_records)]\n",
    "    return weight\n",
    "\n",
    "\n",
    "def find_winner(weights, test_sample):\n",
    "    distances = list()\n",
    "    for weight_index, weight in enumerate(weights):\n",
    "        dist = np.sqrt(np.sum((weight-test_sample)**2))\n",
    "        distances.append((weight_index, dist))\n",
    "    distances.sort(key=lambda tuple: tuple[1])\n",
    "    return distances[0][0]\n",
    "\n",
    "\n",
    "def LVQ_learnmem(traindata, params):\n",
    "\n",
    "    assert len(params) == 2, 'LVQ_learnmem function must have 2 parameters.'\n",
    "    nlabels, tail = np.asarray(params)\n",
    "    nlabels=int(nlabels)\n",
    "    tail=bool(tail)\n",
    "    \n",
    "    # initialize weights\n",
    "    weights = [random_weight(traindata) for i in range(nlabels)]\n",
    "    weights = np.asarray(weights)\n",
    "    if weights.ndim > 1:\n",
    "        print('Random initial centroids: \\n', weights)\n",
    "    \n",
    "    # perform LVQ only on train data and not labels, output weights is centers of clusters\n",
    "    if type(traindata[0]) is not np.int64:\n",
    "        for epoch in range(50):\n",
    "            rate = 0.8 * (1.0-(epoch/float(50)))\n",
    "            sum_error = 0.0\n",
    "            for row in traindata:\n",
    "                winner_index = find_winner(weights, row)\n",
    "                error = (row - weights[winner_index])\n",
    "                sum_error = sum_error + np.sqrt(sum(error**2))\n",
    "                weights[winner_index] = weights[winner_index] + rate * error\n",
    "            if (epoch+1)%5 == 0:\n",
    "                print('>epoch=%d, lrate=%.3f, error=%.3f' % (epoch+1, rate, sum_error))\n",
    "\n",
    "    # sort nweights by dim1 for order\n",
    "    weights = np.asarray(weights)\n",
    "    if weights.ndim > 1:\n",
    "        weights = weights[weights[:, 0].argsort()]\n",
    "        print(f'Final centroids (ordered by dimension 1): \\n {weights} \\n')\n",
    "    \n",
    "    # First get the max and min of each dimension\n",
    "    maxx=np.amax(traindata, axis=0)\n",
    "    minx=np.amin(traindata, axis=0)    \n",
    "    \n",
    "    if traindata.ndim==1:\n",
    "        ninputs=1\n",
    "    else:\n",
    "        ninputs=np.size(traindata,1)\n",
    "    print(f'ninputs = {ninputs}')\n",
    "    \n",
    "    fis=[]\n",
    "    for i in range(ninputs):\n",
    "        if ninputs==1:\n",
    "            centroids=np.linspace(minx,maxx,int(nlabels))\n",
    "            print(f'centroids of dim {i+1} = {centroids}')\n",
    "        else:\n",
    "            centroids = weights[:,i]\n",
    "            print(f'centroids of dim {i+1} = {centroids}')\n",
    "        \n",
    "\n",
    "        mf=[]\n",
    "        if tail==False:\n",
    "            for j in range(nlabels):\n",
    "                if j==0:\n",
    "                    sig = (centroids[j+1]-centroids[j])*0.5 / np.sqrt(-2*np.log(0.5))\n",
    "                    mf.append(fuzzymf(Type = 'gauss2mf', Parameters = [sig, centroids[j], sig, centroids[j]]))\n",
    "                elif j!=(nlabels-1):\n",
    "                    sigl = (centroids[j]-centroids[j-1])*0.5 / np.sqrt(-2*np.log(0.5))\n",
    "                    sigr = (centroids[j+1]-centroids[j])*0.5 / np.sqrt(-2*np.log(0.5))\n",
    "                    mf.append(fuzzymf(Type = 'gauss2mf', Parameters = [sigl, centroids[j], sigr, centroids[j]]))\n",
    "                else:\n",
    "                    sig = (centroids[j]-centroids[j-1])*0.5 / np.sqrt(-2*np.log(0.5))\n",
    "                    mf.append(fuzzymf(Type = 'gauss2mf', Parameters = [sig, centroids[j], sig, centroids[j]]))\n",
    "        else:\n",
    "            for j in range(nlabels):\n",
    "                if j==0:\n",
    "                    sig = (centroids[j+1]-centroids[j])*0.5 / np.sqrt(-2*np.log(0.5))\n",
    "                    mf.append(fuzzymf(Type = 'gauss2mf', Parameters = [sig, -sys.hash_info.inf, sig, centroids[j]]))\n",
    "                elif j!=(nlabels-1):\n",
    "                    sigl = (centroids[j]-centroids[j-1])*0.5 / np.sqrt(-2*np.log(0.5))\n",
    "                    sigr = (centroids[j+1]-centroids[j])*0.5 / np.sqrt(-2*np.log(0.5))\n",
    "                    mf.append(fuzzymf(Type = 'gauss2mf', Parameters = [sigl, centroids[j], sigr, centroids[j]]))\n",
    "                else:\n",
    "                    sig = (centroids[j]-centroids[j-1])*0.5 / np.sqrt(-2*np.log(0.5))\n",
    "                    mf.append(fuzzymf(Type = 'gauss2mf', Parameters = [sig, centroids[j], sig, sys.hash_info.inf]))\n",
    "        fis.append(mf)\n",
    "    print('')\n",
    "    return fis\n",
    "\n",
    "\n",
    "inmf5 = LVQ_learnmem(dataset, [2.0, True])\n",
    "outmf5 = LVQ_learnmem(labels, [2.0, True])\n",
    "nf5=popfnn(In_mf=inmf5, Out_mf=outmf5)\n",
    "nf5.printruleslabels()\n",
    "\n",
    "x = np.linspace(-10, 10, 1001)\n",
    "for i in range(len(inmf5[0])):\n",
    "    plt.plot(x, evalmf(inmf5[0][i], x))\n",
    "plt.xlabel('$x_1$')\n",
    "plt.ylabel('$\\mu(x_1)$')\n",
    "plt.title('Membership Functions for Input $x_1$')\n",
    "\n",
    "plt.figure()\n",
    "y = np.linspace(-1, 4, 1001)\n",
    "for i in range(len(outmf5[0])):\n",
    "    plt.plot(y, evalmf(outmf5[0][i], y))\n",
    "plt.xlabel('$y_1$')\n",
    "plt.ylabel('$\\mu(y)$')\n",
    "plt.title('Membership Functions for Output $y_1$')"
   ]
  },
  {
   "cell_type": "markdown",
   "metadata": {
    "id": "h0KInu6k_WXo"
   },
   "source": [
    "## 6. Train the POPFNN using POP learning\n",
    "Finally we train the POPFNN Neuro Fuzzy System using Pseudo Outer-Product Learning algorithm. Becareful that you do not change nf along the way. This code below should produce only 4 if then fuzzy rules."
   ]
  },
  {
   "cell_type": "code",
   "execution_count": 16,
   "metadata": {
    "ExecuteTime": {
     "end_time": "2022-11-03T16:23:07.091329Z",
     "start_time": "2022-11-03T16:23:07.074708Z"
    },
    "id": "2TkqW8SW_WXo",
    "outputId": "2540ae75-2608-4094-b3b3-6f6f95f9f91d"
   },
   "outputs": [
    {
     "name": "stdout",
     "output_type": "stream",
     "text": [
      "N_inputs= 2\n",
      "N_rules= 4\n",
      "N_output_mf= 2\n",
      "rule_number, labels, pweights\n",
      "0 0 0 18.416272106242427 41.99112337176059 \n",
      "1 0 1 16.836220611650628 16.367856228316207 \n",
      "2 1 0 21.076330697948713 21.0540630502538 \n",
      "3 1 1 41.66483659342213 18.11257035675487 \n"
     ]
    }
   ],
   "source": [
    "# Perform POP learning \n",
    "for k in range(len(dataset)):\n",
    "    nf.poplearn(dataset[k],labels[k])\n",
    "nf.printruleslabels()"
   ]
  },
  {
   "cell_type": "markdown",
   "metadata": {
    "id": "CDVSD_bW_WXp"
   },
   "source": [
    "<font color=red>Question 8</font>: Examine the pseudo weights for each output label in the output above. Create a function in POPFNN class call identify rules to identify the consequent for each rule. Also modify the printruleslabels function to print the label of the consequent after the pseudo weight. <font color='red'>(1 mark)</font>"
   ]
  },
  {
   "cell_type": "code",
   "execution_count": 17,
   "metadata": {
    "ExecuteTime": {
     "end_time": "2022-11-03T16:23:07.096628Z",
     "start_time": "2022-11-03T16:23:07.092847Z"
    },
    "id": "a8RqNGwJ_WXq"
   },
   "outputs": [
    {
     "name": "stdout",
     "output_type": "stream",
     "text": [
      "N_inputs= 2\n",
      "N_rules= 4\n",
      "N_output_mf= 2\n",
      "rule_number, labels, pweights, consequent label\n",
      "0 0 0 18.416272106242427 41.99112337176059 2\n",
      "1 0 1 16.836220611650628 16.367856228316207 1\n",
      "2 1 0 21.076330697948713 21.0540630502538 1\n",
      "3 1 1 41.66483659342213 18.11257035675487 1\n"
     ]
    }
   ],
   "source": [
    "# Enter code here for Question 8.\n",
    "nf.identify_rules()\n",
    "nf.printruleslabels()"
   ]
  },
  {
   "cell_type": "markdown",
   "metadata": {
    "id": "0y3OcqFJ_WXq"
   },
   "source": [
    "<font color=red>Question 9</font>: Now change the generation of membership function to LVQ with nlabels=2 and tail=true. Retrain the fuzzy rules and print the rules for inspection. Any changes in the rules identified? <font color='red'>(1 mark)</font>"
   ]
  },
  {
   "cell_type": "code",
   "execution_count": 18,
   "metadata": {
    "ExecuteTime": {
     "end_time": "2022-11-03T16:23:07.235183Z",
     "start_time": "2022-11-03T16:23:07.098282Z"
    },
    "id": "4zUqC3rx_WXq"
   },
   "outputs": [
    {
     "name": "stdout",
     "output_type": "stream",
     "text": [
      "Random initial centroids: \n",
      " [[-2.51677725  0.12521921]\n",
      " [-2.72634667 -3.25269349]]\n",
      ">epoch=5, lrate=0.736, error=138.835\n",
      ">epoch=10, lrate=0.656, error=135.172\n",
      ">epoch=15, lrate=0.576, error=131.921\n",
      ">epoch=20, lrate=0.496, error=129.126\n",
      ">epoch=25, lrate=0.416, error=126.844\n",
      ">epoch=30, lrate=0.336, error=125.231\n",
      ">epoch=35, lrate=0.256, error=124.085\n",
      ">epoch=40, lrate=0.176, error=122.518\n",
      ">epoch=45, lrate=0.096, error=119.956\n",
      ">epoch=50, lrate=0.016, error=117.248\n",
      "Final centroids (ordered by dimension 1): \n",
      " [[-1.90182733 -2.05966271]\n",
      " [ 2.04957419  1.88813413]] \n",
      "\n",
      "ninputs = 2\n",
      "centroids of dim 1 = [-1.90182733  2.04957419]\n",
      "centroids of dim 2 = [-2.05966271  1.88813413]\n",
      "\n",
      "ninputs = 1\n",
      "centroids of dim 1 = [1. 2.]\n",
      "\n",
      "N_inputs= 2\n",
      "N_rules= 4\n",
      "N_output_mf= 2\n",
      "rule_number, labels, pweights, consequent label\n",
      "0 0 0 4.52726910612926 39.57974663735511 2\n",
      "1 0 1 1.954078209639527 4.799110022533803 2\n",
      "2 1 0 2.617797128516755 5.798338946373031 2\n",
      "3 1 1 9.530009330578364 2.718549628167057 1\n"
     ]
    }
   ],
   "source": [
    "# Enter code for Question 9.\n",
    "inmf6 = LVQ_learnmem(dataset, [2.0, True])\n",
    "outmf6 = LVQ_learnmem(labels, [2.0, True])\n",
    "nf6=popfnn(In_mf=inmf6, Out_mf=outmf6)\n",
    "\n",
    "for k in range(len(dataset)):\n",
    "    nf6.poplearn(dataset[k],labels[k])\n",
    "\n",
    "nf6.identify_rules()\n",
    "nf6.printruleslabels()\n",
    "\n",
    "# Yes, rules 1 and 2 have changed.\n",
    "# rule 1 has changed from 'if x_1 is 0 and x_2 is 1, then y is 1' to 'if x_1 is 0 and x_2 is 1, then y is 2'\n",
    "# rule 2 has changed from 'if x_1 is 1 and x_2 is 0, then y is 1' to 'if x_1 is 1 and x_2 is 0, then y is 2'"
   ]
  },
  {
   "cell_type": "markdown",
   "metadata": {
    "id": "AMFQ3ivb_WXr"
   },
   "source": [
    "<font color=red>Question 10</font>: Now inspect the pseudo weights again. Some of the rules have pseudo weights that are very similar for both output labels. Implement another function to identify the more significant rules such that the pseduo weight for a particular output label is much higher than the other output labels. <font color='red'>(1 mark)</font>"
   ]
  },
  {
   "cell_type": "code",
   "execution_count": 19,
   "metadata": {
    "ExecuteTime": {
     "end_time": "2022-11-03T16:23:07.248659Z",
     "start_time": "2022-11-03T16:23:07.237181Z"
    },
    "id": "FrrA7-JN_WXr"
   },
   "outputs": [
    {
     "name": "stdout",
     "output_type": "stream",
     "text": [
      "Original POPFNN algorithm:\n",
      "Before rule trimming:\n",
      "N_inputs= 2\n",
      "N_rules= 4\n",
      "N_output_mf= 2\n",
      "rule_number, labels, pweights, consequent label\n",
      "0 0 0 18.416272106242427 41.99112337176059 2\n",
      "1 0 1 16.836220611650628 16.367856228316207 1\n",
      "2 1 0 21.076330697948713 21.0540630502538 1\n",
      "3 1 1 41.66483659342213 18.11257035675487 1\n",
      "0 rule retained\n",
      "1 rule removed\n",
      "2 rule removed\n",
      "3 rule retained\n",
      "After rule trimming:\n",
      "rule_number, labels, pweights, consequent label\n",
      "0 0 0 18.416272106242427 41.99112337176059 2\n",
      "3 1 1 41.66483659342213 18.11257035675487 1\n",
      "\n",
      "With LVQ algorithm:\n",
      "Before rule trimming:\n",
      "N_inputs= 2\n",
      "N_rules= 4\n",
      "N_output_mf= 2\n",
      "rule_number, labels, pweights, consequent label\n",
      "0 0 0 4.52726910612926 39.57974663735511 2\n",
      "1 0 1 1.954078209639527 4.799110022533803 2\n",
      "2 1 0 2.617797128516755 5.798338946373031 2\n",
      "3 1 1 9.530009330578364 2.718549628167057 1\n",
      "0 rule retained\n",
      "1 rule removed\n",
      "2 rule removed\n",
      "3 rule retained\n",
      "After rule trimming:\n",
      "rule_number, labels, pweights, consequent label\n",
      "0 0 0 4.52726910612926 39.57974663735511 2\n",
      "3 1 1 9.530009330578364 2.718549628167057 1\n"
     ]
    }
   ],
   "source": [
    "# Enter code for Question 10.\n",
    "def trim_rules(pweights):\n",
    "    rule_number = np.empty((0,1), int)\n",
    "    labels = np.empty((0,2), int)\n",
    "    pweight = np.empty((0,2), float)\n",
    "    consequent_label = np.empty((0,1), int)\n",
    "    for i in range(len(pweights)):\n",
    "        if (pweights[i][0]/pweights[i][1] > 2 or pweights[i][1]/pweights[i][0] > 2) and (abs(pweights[i][0]-pweights[i][1])>5):\n",
    "            rule_number = np.append(rule_number, i)\n",
    "            if i == 0:\n",
    "                labels = np.append(labels,np.array([[0, 0]]), axis=0)\n",
    "            elif i == 1:\n",
    "                labels = np.append(labels,np.array([[0, 1]]), axis=0)\n",
    "            elif i == 2:\n",
    "                labels = np.append(labels,np.array([[1, 0]]), axis=0)\n",
    "            elif i == 3:\n",
    "                labels = np.append(labels,np.array([[1, 1]]), axis=0)\n",
    "            pweight = np.append(pweight, [pweights[i]], axis=0)\n",
    "            consequent_label = np.append(consequent_label, np.argmax(pweights[i])+1)\n",
    "            print(f'{i} rule retained')\n",
    "        else:\n",
    "            print(f'{i} rule removed')\n",
    "    print('After rule trimming:')\n",
    "    print('rule_number, labels, pweights, consequent label')\n",
    "    for i in range(len(rule_number)): # for each retained rule\n",
    "        print(rule_number[i],end = ' ')\n",
    "        for j in range(2):\n",
    "            print(labels[i,j],end = ' ')\n",
    "        for j in range(2):\n",
    "            print(pweight[i,j],end = ' ')\n",
    "        print(consequent_label[i])\n",
    "\n",
    "print('Original POPFNN algorithm:')\n",
    "pweights = nf.identify_rules()\n",
    "print('Before rule trimming:')\n",
    "nf.printruleslabels()\n",
    "trim_rules(pweights)\n",
    "print('')\n",
    "\n",
    "print('With LVQ algorithm:')\n",
    "pweights = nf6.identify_rules()\n",
    "print('Before rule trimming:')\n",
    "nf6.printruleslabels()\n",
    "trim_rules(pweights)"
   ]
  }
 ],
 "metadata": {
  "colab": {
   "collapsed_sections": [],
   "provenance": [
    {
     "file_id": "17SuY9jyoGjfsYltFASVq6VdIZcgVYgpg",
     "timestamp": 1664968279310
    }
   ]
  },
  "kernelspec": {
   "display_name": "Python 3 (ipykernel)",
   "language": "python",
   "name": "python3"
  },
  "language_info": {
   "codemirror_mode": {
    "name": "ipython",
    "version": 3
   },
   "file_extension": ".py",
   "mimetype": "text/x-python",
   "name": "python",
   "nbconvert_exporter": "python",
   "pygments_lexer": "ipython3",
   "version": "3.9.12"
  }
 },
 "nbformat": 4,
 "nbformat_minor": 1
}
